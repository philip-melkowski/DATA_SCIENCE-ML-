{
 "cells": [
  {
   "cell_type": "code",
   "execution_count": 254,
   "metadata": {
    "collapsed": true
   },
   "outputs": [],
   "source": [
    "# we will use logistic regression to see how different factors influence the chance of having Coronary Heart Disease (CHD)"
   ]
  },
  {
   "cell_type": "code",
   "execution_count": 255,
   "outputs": [],
   "source": [
    "import matplotlib.pyplot as plt\n",
    "import pandas as pd"
   ],
   "metadata": {
    "collapsed": false,
    "pycharm": {
     "name": "#%%\n"
    }
   }
  },
  {
   "cell_type": "code",
   "execution_count": 256,
   "outputs": [
    {
     "data": {
      "text/plain": "   male  age  education  currentSmoker  cigsPerDay  BPMeds  prevalentStroke  \\\n0     1   39        4.0              0         0.0     0.0                0   \n1     0   46        2.0              0         0.0     0.0                0   \n2     1   48        1.0              1        20.0     0.0                0   \n3     0   61        3.0              1        30.0     0.0                0   \n4     0   46        3.0              1        23.0     0.0                0   \n\n   prevalentHyp  diabetes  totChol  sysBP  diaBP    BMI  heartRate  glucose  \\\n0             0         0    195.0  106.0   70.0  26.97       80.0     77.0   \n1             0         0    250.0  121.0   81.0  28.73       95.0     76.0   \n2             0         0    245.0  127.5   80.0  25.34       75.0     70.0   \n3             1         0    225.0  150.0   95.0  28.58       65.0    103.0   \n4             0         0    285.0  130.0   84.0  23.10       85.0     85.0   \n\n   TenYearCHD  \n0           0  \n1           0  \n2           0  \n3           1  \n4           0  ",
      "text/html": "<div>\n<style scoped>\n    .dataframe tbody tr th:only-of-type {\n        vertical-align: middle;\n    }\n\n    .dataframe tbody tr th {\n        vertical-align: top;\n    }\n\n    .dataframe thead th {\n        text-align: right;\n    }\n</style>\n<table border=\"1\" class=\"dataframe\">\n  <thead>\n    <tr style=\"text-align: right;\">\n      <th></th>\n      <th>male</th>\n      <th>age</th>\n      <th>education</th>\n      <th>currentSmoker</th>\n      <th>cigsPerDay</th>\n      <th>BPMeds</th>\n      <th>prevalentStroke</th>\n      <th>prevalentHyp</th>\n      <th>diabetes</th>\n      <th>totChol</th>\n      <th>sysBP</th>\n      <th>diaBP</th>\n      <th>BMI</th>\n      <th>heartRate</th>\n      <th>glucose</th>\n      <th>TenYearCHD</th>\n    </tr>\n  </thead>\n  <tbody>\n    <tr>\n      <th>0</th>\n      <td>1</td>\n      <td>39</td>\n      <td>4.0</td>\n      <td>0</td>\n      <td>0.0</td>\n      <td>0.0</td>\n      <td>0</td>\n      <td>0</td>\n      <td>0</td>\n      <td>195.0</td>\n      <td>106.0</td>\n      <td>70.0</td>\n      <td>26.97</td>\n      <td>80.0</td>\n      <td>77.0</td>\n      <td>0</td>\n    </tr>\n    <tr>\n      <th>1</th>\n      <td>0</td>\n      <td>46</td>\n      <td>2.0</td>\n      <td>0</td>\n      <td>0.0</td>\n      <td>0.0</td>\n      <td>0</td>\n      <td>0</td>\n      <td>0</td>\n      <td>250.0</td>\n      <td>121.0</td>\n      <td>81.0</td>\n      <td>28.73</td>\n      <td>95.0</td>\n      <td>76.0</td>\n      <td>0</td>\n    </tr>\n    <tr>\n      <th>2</th>\n      <td>1</td>\n      <td>48</td>\n      <td>1.0</td>\n      <td>1</td>\n      <td>20.0</td>\n      <td>0.0</td>\n      <td>0</td>\n      <td>0</td>\n      <td>0</td>\n      <td>245.0</td>\n      <td>127.5</td>\n      <td>80.0</td>\n      <td>25.34</td>\n      <td>75.0</td>\n      <td>70.0</td>\n      <td>0</td>\n    </tr>\n    <tr>\n      <th>3</th>\n      <td>0</td>\n      <td>61</td>\n      <td>3.0</td>\n      <td>1</td>\n      <td>30.0</td>\n      <td>0.0</td>\n      <td>0</td>\n      <td>1</td>\n      <td>0</td>\n      <td>225.0</td>\n      <td>150.0</td>\n      <td>95.0</td>\n      <td>28.58</td>\n      <td>65.0</td>\n      <td>103.0</td>\n      <td>1</td>\n    </tr>\n    <tr>\n      <th>4</th>\n      <td>0</td>\n      <td>46</td>\n      <td>3.0</td>\n      <td>1</td>\n      <td>23.0</td>\n      <td>0.0</td>\n      <td>0</td>\n      <td>0</td>\n      <td>0</td>\n      <td>285.0</td>\n      <td>130.0</td>\n      <td>84.0</td>\n      <td>23.10</td>\n      <td>85.0</td>\n      <td>85.0</td>\n      <td>0</td>\n    </tr>\n  </tbody>\n</table>\n</div>"
     },
     "execution_count": 256,
     "metadata": {},
     "output_type": "execute_result"
    }
   ],
   "source": [
    "df = pd.read_csv('framingham_heart_disease.csv')\n",
    "df.head(5)"
   ],
   "metadata": {
    "collapsed": false,
    "pycharm": {
     "name": "#%%\n"
    }
   }
  },
  {
   "cell_type": "code",
   "execution_count": 257,
   "outputs": [
    {
     "name": "stdout",
     "output_type": "stream",
     "text": [
      "<class 'pandas.core.frame.DataFrame'>\n",
      "RangeIndex: 4238 entries, 0 to 4237\n",
      "Data columns (total 16 columns):\n",
      " #   Column           Non-Null Count  Dtype  \n",
      "---  ------           --------------  -----  \n",
      " 0   male             4238 non-null   int64  \n",
      " 1   age              4238 non-null   int64  \n",
      " 2   education        4133 non-null   float64\n",
      " 3   currentSmoker    4238 non-null   int64  \n",
      " 4   cigsPerDay       4209 non-null   float64\n",
      " 5   BPMeds           4185 non-null   float64\n",
      " 6   prevalentStroke  4238 non-null   int64  \n",
      " 7   prevalentHyp     4238 non-null   int64  \n",
      " 8   diabetes         4238 non-null   int64  \n",
      " 9   totChol          4188 non-null   float64\n",
      " 10  sysBP            4238 non-null   float64\n",
      " 11  diaBP            4238 non-null   float64\n",
      " 12  BMI              4219 non-null   float64\n",
      " 13  heartRate        4237 non-null   float64\n",
      " 14  glucose          3850 non-null   float64\n",
      " 15  TenYearCHD       4238 non-null   int64  \n",
      "dtypes: float64(9), int64(7)\n",
      "memory usage: 529.9 KB\n"
     ]
    }
   ],
   "source": [
    "df.info()"
   ],
   "metadata": {
    "collapsed": false,
    "pycharm": {
     "name": "#%%\n"
    }
   }
  },
  {
   "cell_type": "code",
   "execution_count": 258,
   "outputs": [
    {
     "data": {
      "text/plain": "male                 0\nage                  0\neducation          105\ncurrentSmoker        0\ncigsPerDay          29\nBPMeds              53\nprevalentStroke      0\nprevalentHyp         0\ndiabetes             0\ntotChol             50\nsysBP                0\ndiaBP                0\nBMI                 19\nheartRate            1\nglucose            388\nTenYearCHD           0\ndtype: int64"
     },
     "execution_count": 258,
     "metadata": {},
     "output_type": "execute_result"
    }
   ],
   "source": [
    "df.isnull().sum()"
   ],
   "metadata": {
    "collapsed": false,
    "pycharm": {
     "name": "#%%\n"
    }
   }
  },
  {
   "cell_type": "code",
   "execution_count": 259,
   "outputs": [
    {
     "data": {
      "text/plain": "                     male       age  education  currentSmoker  cigsPerDay  \\\nmale             1.000000 -0.028979   0.017352       0.197596    0.317930   \nage             -0.028979  1.000000  -0.165883      -0.213748   -0.192791   \neducation        0.017352 -0.165883   1.000000       0.018532    0.008085   \ncurrentSmoker    0.197596 -0.213748   0.018532       1.000000    0.769690   \ncigsPerDay       0.317930 -0.192791   0.008085       0.769690    1.000000   \nBPMeds          -0.052506  0.122995  -0.010815      -0.048938   -0.046134   \nprevalentStroke -0.004546  0.057655  -0.035112      -0.032988   -0.032707   \nprevalentHyp     0.005313  0.307194  -0.081970      -0.103260   -0.066146   \ndiabetes         0.015708  0.101258  -0.038680      -0.044295   -0.037067   \ntotChol         -0.070322  0.262131  -0.023115      -0.046562   -0.026320   \nsysBP           -0.035989  0.394302  -0.129631      -0.130230   -0.088780   \ndiaBP            0.057933  0.206104  -0.062316      -0.107746   -0.056632   \nBMI              0.081672  0.135800  -0.137504      -0.167650   -0.092856   \nheartRate       -0.116620 -0.012823  -0.054206       0.062356    0.075157   \nglucose          0.006083  0.122256  -0.035721      -0.056826   -0.058960   \nTenYearCHD       0.088428  0.225256  -0.054059       0.019456    0.057884   \n\n                   BPMeds  prevalentStroke  prevalentHyp  diabetes   totChol  \\\nmale            -0.052506        -0.004546      0.005313  0.015708 -0.070322   \nage              0.122995         0.057655      0.307194  0.101258  0.262131   \neducation       -0.010815        -0.035112     -0.081970 -0.038680 -0.023115   \ncurrentSmoker   -0.048938        -0.032988     -0.103260 -0.044295 -0.046562   \ncigsPerDay      -0.046134        -0.032707     -0.066146 -0.037067 -0.026320   \nBPMeds           1.000000         0.117365      0.261187  0.052047  0.080558   \nprevalentStroke  0.117365         1.000000      0.074830  0.006949  0.000067   \nprevalentHyp     0.261187         0.074830      1.000000  0.077808  0.163993   \ndiabetes         0.052047         0.006949      0.077808  1.000000  0.040278   \ntotChol          0.080558         0.000067      0.163993  0.040278  1.000000   \nsysBP            0.254219         0.057009      0.696755  0.111283  0.208908   \ndiaBP            0.194227         0.045190      0.615751  0.050329  0.165182   \nBMI              0.100668         0.025891      0.301318  0.087036  0.115767   \nheartRate        0.015233        -0.017676      0.147261  0.048994  0.091125   \nglucose          0.051176         0.018431      0.086834  0.617627  0.046408   \nTenYearCHD       0.087489         0.061810      0.177603  0.097317  0.082184   \n\n                    sysBP     diaBP       BMI  heartRate   glucose  TenYearCHD  \nmale            -0.035989  0.057933  0.081672  -0.116620  0.006083    0.088428  \nage              0.394302  0.206104  0.135800  -0.012823  0.122256    0.225256  \neducation       -0.129631 -0.062316 -0.137504  -0.054206 -0.035721   -0.054059  \ncurrentSmoker   -0.130230 -0.107746 -0.167650   0.062356 -0.056826    0.019456  \ncigsPerDay      -0.088780 -0.056632 -0.092856   0.075157 -0.058960    0.057884  \nBPMeds           0.254219  0.194227  0.100668   0.015233  0.051176    0.087489  \nprevalentStroke  0.057009  0.045190  0.025891  -0.017676  0.018431    0.061810  \nprevalentHyp     0.696755  0.615751  0.301318   0.147261  0.086834    0.177603  \ndiabetes         0.111283  0.050329  0.087036   0.048994  0.617627    0.097317  \ntotChol          0.208908  0.165182  0.115767   0.091125  0.046408    0.082184  \nsysBP            1.000000  0.784002  0.326981   0.182246  0.140621    0.216429  \ndiaBP            0.784002  1.000000  0.377588   0.181255  0.061231    0.145299  \nBMI              0.326981  0.377588  1.000000   0.067678  0.087377    0.075192  \nheartRate        0.182246  0.181255  0.067678   1.000000  0.094500    0.022913  \nglucose          0.140621  0.061231  0.087377   0.094500  1.000000    0.125544  \nTenYearCHD       0.216429  0.145299  0.075192   0.022913  0.125544    1.000000  ",
      "text/html": "<div>\n<style scoped>\n    .dataframe tbody tr th:only-of-type {\n        vertical-align: middle;\n    }\n\n    .dataframe tbody tr th {\n        vertical-align: top;\n    }\n\n    .dataframe thead th {\n        text-align: right;\n    }\n</style>\n<table border=\"1\" class=\"dataframe\">\n  <thead>\n    <tr style=\"text-align: right;\">\n      <th></th>\n      <th>male</th>\n      <th>age</th>\n      <th>education</th>\n      <th>currentSmoker</th>\n      <th>cigsPerDay</th>\n      <th>BPMeds</th>\n      <th>prevalentStroke</th>\n      <th>prevalentHyp</th>\n      <th>diabetes</th>\n      <th>totChol</th>\n      <th>sysBP</th>\n      <th>diaBP</th>\n      <th>BMI</th>\n      <th>heartRate</th>\n      <th>glucose</th>\n      <th>TenYearCHD</th>\n    </tr>\n  </thead>\n  <tbody>\n    <tr>\n      <th>male</th>\n      <td>1.000000</td>\n      <td>-0.028979</td>\n      <td>0.017352</td>\n      <td>0.197596</td>\n      <td>0.317930</td>\n      <td>-0.052506</td>\n      <td>-0.004546</td>\n      <td>0.005313</td>\n      <td>0.015708</td>\n      <td>-0.070322</td>\n      <td>-0.035989</td>\n      <td>0.057933</td>\n      <td>0.081672</td>\n      <td>-0.116620</td>\n      <td>0.006083</td>\n      <td>0.088428</td>\n    </tr>\n    <tr>\n      <th>age</th>\n      <td>-0.028979</td>\n      <td>1.000000</td>\n      <td>-0.165883</td>\n      <td>-0.213748</td>\n      <td>-0.192791</td>\n      <td>0.122995</td>\n      <td>0.057655</td>\n      <td>0.307194</td>\n      <td>0.101258</td>\n      <td>0.262131</td>\n      <td>0.394302</td>\n      <td>0.206104</td>\n      <td>0.135800</td>\n      <td>-0.012823</td>\n      <td>0.122256</td>\n      <td>0.225256</td>\n    </tr>\n    <tr>\n      <th>education</th>\n      <td>0.017352</td>\n      <td>-0.165883</td>\n      <td>1.000000</td>\n      <td>0.018532</td>\n      <td>0.008085</td>\n      <td>-0.010815</td>\n      <td>-0.035112</td>\n      <td>-0.081970</td>\n      <td>-0.038680</td>\n      <td>-0.023115</td>\n      <td>-0.129631</td>\n      <td>-0.062316</td>\n      <td>-0.137504</td>\n      <td>-0.054206</td>\n      <td>-0.035721</td>\n      <td>-0.054059</td>\n    </tr>\n    <tr>\n      <th>currentSmoker</th>\n      <td>0.197596</td>\n      <td>-0.213748</td>\n      <td>0.018532</td>\n      <td>1.000000</td>\n      <td>0.769690</td>\n      <td>-0.048938</td>\n      <td>-0.032988</td>\n      <td>-0.103260</td>\n      <td>-0.044295</td>\n      <td>-0.046562</td>\n      <td>-0.130230</td>\n      <td>-0.107746</td>\n      <td>-0.167650</td>\n      <td>0.062356</td>\n      <td>-0.056826</td>\n      <td>0.019456</td>\n    </tr>\n    <tr>\n      <th>cigsPerDay</th>\n      <td>0.317930</td>\n      <td>-0.192791</td>\n      <td>0.008085</td>\n      <td>0.769690</td>\n      <td>1.000000</td>\n      <td>-0.046134</td>\n      <td>-0.032707</td>\n      <td>-0.066146</td>\n      <td>-0.037067</td>\n      <td>-0.026320</td>\n      <td>-0.088780</td>\n      <td>-0.056632</td>\n      <td>-0.092856</td>\n      <td>0.075157</td>\n      <td>-0.058960</td>\n      <td>0.057884</td>\n    </tr>\n    <tr>\n      <th>BPMeds</th>\n      <td>-0.052506</td>\n      <td>0.122995</td>\n      <td>-0.010815</td>\n      <td>-0.048938</td>\n      <td>-0.046134</td>\n      <td>1.000000</td>\n      <td>0.117365</td>\n      <td>0.261187</td>\n      <td>0.052047</td>\n      <td>0.080558</td>\n      <td>0.254219</td>\n      <td>0.194227</td>\n      <td>0.100668</td>\n      <td>0.015233</td>\n      <td>0.051176</td>\n      <td>0.087489</td>\n    </tr>\n    <tr>\n      <th>prevalentStroke</th>\n      <td>-0.004546</td>\n      <td>0.057655</td>\n      <td>-0.035112</td>\n      <td>-0.032988</td>\n      <td>-0.032707</td>\n      <td>0.117365</td>\n      <td>1.000000</td>\n      <td>0.074830</td>\n      <td>0.006949</td>\n      <td>0.000067</td>\n      <td>0.057009</td>\n      <td>0.045190</td>\n      <td>0.025891</td>\n      <td>-0.017676</td>\n      <td>0.018431</td>\n      <td>0.061810</td>\n    </tr>\n    <tr>\n      <th>prevalentHyp</th>\n      <td>0.005313</td>\n      <td>0.307194</td>\n      <td>-0.081970</td>\n      <td>-0.103260</td>\n      <td>-0.066146</td>\n      <td>0.261187</td>\n      <td>0.074830</td>\n      <td>1.000000</td>\n      <td>0.077808</td>\n      <td>0.163993</td>\n      <td>0.696755</td>\n      <td>0.615751</td>\n      <td>0.301318</td>\n      <td>0.147261</td>\n      <td>0.086834</td>\n      <td>0.177603</td>\n    </tr>\n    <tr>\n      <th>diabetes</th>\n      <td>0.015708</td>\n      <td>0.101258</td>\n      <td>-0.038680</td>\n      <td>-0.044295</td>\n      <td>-0.037067</td>\n      <td>0.052047</td>\n      <td>0.006949</td>\n      <td>0.077808</td>\n      <td>1.000000</td>\n      <td>0.040278</td>\n      <td>0.111283</td>\n      <td>0.050329</td>\n      <td>0.087036</td>\n      <td>0.048994</td>\n      <td>0.617627</td>\n      <td>0.097317</td>\n    </tr>\n    <tr>\n      <th>totChol</th>\n      <td>-0.070322</td>\n      <td>0.262131</td>\n      <td>-0.023115</td>\n      <td>-0.046562</td>\n      <td>-0.026320</td>\n      <td>0.080558</td>\n      <td>0.000067</td>\n      <td>0.163993</td>\n      <td>0.040278</td>\n      <td>1.000000</td>\n      <td>0.208908</td>\n      <td>0.165182</td>\n      <td>0.115767</td>\n      <td>0.091125</td>\n      <td>0.046408</td>\n      <td>0.082184</td>\n    </tr>\n    <tr>\n      <th>sysBP</th>\n      <td>-0.035989</td>\n      <td>0.394302</td>\n      <td>-0.129631</td>\n      <td>-0.130230</td>\n      <td>-0.088780</td>\n      <td>0.254219</td>\n      <td>0.057009</td>\n      <td>0.696755</td>\n      <td>0.111283</td>\n      <td>0.208908</td>\n      <td>1.000000</td>\n      <td>0.784002</td>\n      <td>0.326981</td>\n      <td>0.182246</td>\n      <td>0.140621</td>\n      <td>0.216429</td>\n    </tr>\n    <tr>\n      <th>diaBP</th>\n      <td>0.057933</td>\n      <td>0.206104</td>\n      <td>-0.062316</td>\n      <td>-0.107746</td>\n      <td>-0.056632</td>\n      <td>0.194227</td>\n      <td>0.045190</td>\n      <td>0.615751</td>\n      <td>0.050329</td>\n      <td>0.165182</td>\n      <td>0.784002</td>\n      <td>1.000000</td>\n      <td>0.377588</td>\n      <td>0.181255</td>\n      <td>0.061231</td>\n      <td>0.145299</td>\n    </tr>\n    <tr>\n      <th>BMI</th>\n      <td>0.081672</td>\n      <td>0.135800</td>\n      <td>-0.137504</td>\n      <td>-0.167650</td>\n      <td>-0.092856</td>\n      <td>0.100668</td>\n      <td>0.025891</td>\n      <td>0.301318</td>\n      <td>0.087036</td>\n      <td>0.115767</td>\n      <td>0.326981</td>\n      <td>0.377588</td>\n      <td>1.000000</td>\n      <td>0.067678</td>\n      <td>0.087377</td>\n      <td>0.075192</td>\n    </tr>\n    <tr>\n      <th>heartRate</th>\n      <td>-0.116620</td>\n      <td>-0.012823</td>\n      <td>-0.054206</td>\n      <td>0.062356</td>\n      <td>0.075157</td>\n      <td>0.015233</td>\n      <td>-0.017676</td>\n      <td>0.147261</td>\n      <td>0.048994</td>\n      <td>0.091125</td>\n      <td>0.182246</td>\n      <td>0.181255</td>\n      <td>0.067678</td>\n      <td>1.000000</td>\n      <td>0.094500</td>\n      <td>0.022913</td>\n    </tr>\n    <tr>\n      <th>glucose</th>\n      <td>0.006083</td>\n      <td>0.122256</td>\n      <td>-0.035721</td>\n      <td>-0.056826</td>\n      <td>-0.058960</td>\n      <td>0.051176</td>\n      <td>0.018431</td>\n      <td>0.086834</td>\n      <td>0.617627</td>\n      <td>0.046408</td>\n      <td>0.140621</td>\n      <td>0.061231</td>\n      <td>0.087377</td>\n      <td>0.094500</td>\n      <td>1.000000</td>\n      <td>0.125544</td>\n    </tr>\n    <tr>\n      <th>TenYearCHD</th>\n      <td>0.088428</td>\n      <td>0.225256</td>\n      <td>-0.054059</td>\n      <td>0.019456</td>\n      <td>0.057884</td>\n      <td>0.087489</td>\n      <td>0.061810</td>\n      <td>0.177603</td>\n      <td>0.097317</td>\n      <td>0.082184</td>\n      <td>0.216429</td>\n      <td>0.145299</td>\n      <td>0.075192</td>\n      <td>0.022913</td>\n      <td>0.125544</td>\n      <td>1.000000</td>\n    </tr>\n  </tbody>\n</table>\n</div>"
     },
     "execution_count": 259,
     "metadata": {},
     "output_type": "execute_result"
    }
   ],
   "source": [
    "df.corr()"
   ],
   "metadata": {
    "collapsed": false,
    "pycharm": {
     "name": "#%%\n"
    }
   }
  },
  {
   "cell_type": "code",
   "execution_count": 260,
   "outputs": [],
   "source": [
    "#remove current smoker because it's strongly correlated with cigsPerDay\n",
    "df = df.drop(['currentSmoker'], axis=1)"
   ],
   "metadata": {
    "collapsed": false,
    "pycharm": {
     "name": "#%%\n"
    }
   }
  },
  {
   "cell_type": "code",
   "execution_count": 261,
   "outputs": [
    {
     "data": {
      "text/plain": "                     male       age  education  cigsPerDay    BPMeds  \\\nmale             1.000000 -0.028979   0.017352    0.317930 -0.052506   \nage             -0.028979  1.000000  -0.165883   -0.192791  0.122995   \neducation        0.017352 -0.165883   1.000000    0.008085 -0.010815   \ncigsPerDay       0.317930 -0.192791   0.008085    1.000000 -0.046134   \nBPMeds          -0.052506  0.122995  -0.010815   -0.046134  1.000000   \nprevalentStroke -0.004546  0.057655  -0.035112   -0.032707  0.117365   \nprevalentHyp     0.005313  0.307194  -0.081970   -0.066146  0.261187   \ndiabetes         0.015708  0.101258  -0.038680   -0.037067  0.052047   \ntotChol         -0.070322  0.262131  -0.023115   -0.026320  0.080558   \nsysBP           -0.035989  0.394302  -0.129631   -0.088780  0.254219   \ndiaBP            0.057933  0.206104  -0.062316   -0.056632  0.194227   \nBMI              0.081672  0.135800  -0.137504   -0.092856  0.100668   \nheartRate       -0.116620 -0.012823  -0.054206    0.075157  0.015233   \nglucose          0.006083  0.122256  -0.035721   -0.058960  0.051176   \nTenYearCHD       0.088428  0.225256  -0.054059    0.057884  0.087489   \n\n                 prevalentStroke  prevalentHyp  diabetes   totChol     sysBP  \\\nmale                   -0.004546      0.005313  0.015708 -0.070322 -0.035989   \nage                     0.057655      0.307194  0.101258  0.262131  0.394302   \neducation              -0.035112     -0.081970 -0.038680 -0.023115 -0.129631   \ncigsPerDay             -0.032707     -0.066146 -0.037067 -0.026320 -0.088780   \nBPMeds                  0.117365      0.261187  0.052047  0.080558  0.254219   \nprevalentStroke         1.000000      0.074830  0.006949  0.000067  0.057009   \nprevalentHyp            0.074830      1.000000  0.077808  0.163993  0.696755   \ndiabetes                0.006949      0.077808  1.000000  0.040278  0.111283   \ntotChol                 0.000067      0.163993  0.040278  1.000000  0.208908   \nsysBP                   0.057009      0.696755  0.111283  0.208908  1.000000   \ndiaBP                   0.045190      0.615751  0.050329  0.165182  0.784002   \nBMI                     0.025891      0.301318  0.087036  0.115767  0.326981   \nheartRate              -0.017676      0.147261  0.048994  0.091125  0.182246   \nglucose                 0.018431      0.086834  0.617627  0.046408  0.140621   \nTenYearCHD              0.061810      0.177603  0.097317  0.082184  0.216429   \n\n                    diaBP       BMI  heartRate   glucose  TenYearCHD  \nmale             0.057933  0.081672  -0.116620  0.006083    0.088428  \nage              0.206104  0.135800  -0.012823  0.122256    0.225256  \neducation       -0.062316 -0.137504  -0.054206 -0.035721   -0.054059  \ncigsPerDay      -0.056632 -0.092856   0.075157 -0.058960    0.057884  \nBPMeds           0.194227  0.100668   0.015233  0.051176    0.087489  \nprevalentStroke  0.045190  0.025891  -0.017676  0.018431    0.061810  \nprevalentHyp     0.615751  0.301318   0.147261  0.086834    0.177603  \ndiabetes         0.050329  0.087036   0.048994  0.617627    0.097317  \ntotChol          0.165182  0.115767   0.091125  0.046408    0.082184  \nsysBP            0.784002  0.326981   0.182246  0.140621    0.216429  \ndiaBP            1.000000  0.377588   0.181255  0.061231    0.145299  \nBMI              0.377588  1.000000   0.067678  0.087377    0.075192  \nheartRate        0.181255  0.067678   1.000000  0.094500    0.022913  \nglucose          0.061231  0.087377   0.094500  1.000000    0.125544  \nTenYearCHD       0.145299  0.075192   0.022913  0.125544    1.000000  ",
      "text/html": "<div>\n<style scoped>\n    .dataframe tbody tr th:only-of-type {\n        vertical-align: middle;\n    }\n\n    .dataframe tbody tr th {\n        vertical-align: top;\n    }\n\n    .dataframe thead th {\n        text-align: right;\n    }\n</style>\n<table border=\"1\" class=\"dataframe\">\n  <thead>\n    <tr style=\"text-align: right;\">\n      <th></th>\n      <th>male</th>\n      <th>age</th>\n      <th>education</th>\n      <th>cigsPerDay</th>\n      <th>BPMeds</th>\n      <th>prevalentStroke</th>\n      <th>prevalentHyp</th>\n      <th>diabetes</th>\n      <th>totChol</th>\n      <th>sysBP</th>\n      <th>diaBP</th>\n      <th>BMI</th>\n      <th>heartRate</th>\n      <th>glucose</th>\n      <th>TenYearCHD</th>\n    </tr>\n  </thead>\n  <tbody>\n    <tr>\n      <th>male</th>\n      <td>1.000000</td>\n      <td>-0.028979</td>\n      <td>0.017352</td>\n      <td>0.317930</td>\n      <td>-0.052506</td>\n      <td>-0.004546</td>\n      <td>0.005313</td>\n      <td>0.015708</td>\n      <td>-0.070322</td>\n      <td>-0.035989</td>\n      <td>0.057933</td>\n      <td>0.081672</td>\n      <td>-0.116620</td>\n      <td>0.006083</td>\n      <td>0.088428</td>\n    </tr>\n    <tr>\n      <th>age</th>\n      <td>-0.028979</td>\n      <td>1.000000</td>\n      <td>-0.165883</td>\n      <td>-0.192791</td>\n      <td>0.122995</td>\n      <td>0.057655</td>\n      <td>0.307194</td>\n      <td>0.101258</td>\n      <td>0.262131</td>\n      <td>0.394302</td>\n      <td>0.206104</td>\n      <td>0.135800</td>\n      <td>-0.012823</td>\n      <td>0.122256</td>\n      <td>0.225256</td>\n    </tr>\n    <tr>\n      <th>education</th>\n      <td>0.017352</td>\n      <td>-0.165883</td>\n      <td>1.000000</td>\n      <td>0.008085</td>\n      <td>-0.010815</td>\n      <td>-0.035112</td>\n      <td>-0.081970</td>\n      <td>-0.038680</td>\n      <td>-0.023115</td>\n      <td>-0.129631</td>\n      <td>-0.062316</td>\n      <td>-0.137504</td>\n      <td>-0.054206</td>\n      <td>-0.035721</td>\n      <td>-0.054059</td>\n    </tr>\n    <tr>\n      <th>cigsPerDay</th>\n      <td>0.317930</td>\n      <td>-0.192791</td>\n      <td>0.008085</td>\n      <td>1.000000</td>\n      <td>-0.046134</td>\n      <td>-0.032707</td>\n      <td>-0.066146</td>\n      <td>-0.037067</td>\n      <td>-0.026320</td>\n      <td>-0.088780</td>\n      <td>-0.056632</td>\n      <td>-0.092856</td>\n      <td>0.075157</td>\n      <td>-0.058960</td>\n      <td>0.057884</td>\n    </tr>\n    <tr>\n      <th>BPMeds</th>\n      <td>-0.052506</td>\n      <td>0.122995</td>\n      <td>-0.010815</td>\n      <td>-0.046134</td>\n      <td>1.000000</td>\n      <td>0.117365</td>\n      <td>0.261187</td>\n      <td>0.052047</td>\n      <td>0.080558</td>\n      <td>0.254219</td>\n      <td>0.194227</td>\n      <td>0.100668</td>\n      <td>0.015233</td>\n      <td>0.051176</td>\n      <td>0.087489</td>\n    </tr>\n    <tr>\n      <th>prevalentStroke</th>\n      <td>-0.004546</td>\n      <td>0.057655</td>\n      <td>-0.035112</td>\n      <td>-0.032707</td>\n      <td>0.117365</td>\n      <td>1.000000</td>\n      <td>0.074830</td>\n      <td>0.006949</td>\n      <td>0.000067</td>\n      <td>0.057009</td>\n      <td>0.045190</td>\n      <td>0.025891</td>\n      <td>-0.017676</td>\n      <td>0.018431</td>\n      <td>0.061810</td>\n    </tr>\n    <tr>\n      <th>prevalentHyp</th>\n      <td>0.005313</td>\n      <td>0.307194</td>\n      <td>-0.081970</td>\n      <td>-0.066146</td>\n      <td>0.261187</td>\n      <td>0.074830</td>\n      <td>1.000000</td>\n      <td>0.077808</td>\n      <td>0.163993</td>\n      <td>0.696755</td>\n      <td>0.615751</td>\n      <td>0.301318</td>\n      <td>0.147261</td>\n      <td>0.086834</td>\n      <td>0.177603</td>\n    </tr>\n    <tr>\n      <th>diabetes</th>\n      <td>0.015708</td>\n      <td>0.101258</td>\n      <td>-0.038680</td>\n      <td>-0.037067</td>\n      <td>0.052047</td>\n      <td>0.006949</td>\n      <td>0.077808</td>\n      <td>1.000000</td>\n      <td>0.040278</td>\n      <td>0.111283</td>\n      <td>0.050329</td>\n      <td>0.087036</td>\n      <td>0.048994</td>\n      <td>0.617627</td>\n      <td>0.097317</td>\n    </tr>\n    <tr>\n      <th>totChol</th>\n      <td>-0.070322</td>\n      <td>0.262131</td>\n      <td>-0.023115</td>\n      <td>-0.026320</td>\n      <td>0.080558</td>\n      <td>0.000067</td>\n      <td>0.163993</td>\n      <td>0.040278</td>\n      <td>1.000000</td>\n      <td>0.208908</td>\n      <td>0.165182</td>\n      <td>0.115767</td>\n      <td>0.091125</td>\n      <td>0.046408</td>\n      <td>0.082184</td>\n    </tr>\n    <tr>\n      <th>sysBP</th>\n      <td>-0.035989</td>\n      <td>0.394302</td>\n      <td>-0.129631</td>\n      <td>-0.088780</td>\n      <td>0.254219</td>\n      <td>0.057009</td>\n      <td>0.696755</td>\n      <td>0.111283</td>\n      <td>0.208908</td>\n      <td>1.000000</td>\n      <td>0.784002</td>\n      <td>0.326981</td>\n      <td>0.182246</td>\n      <td>0.140621</td>\n      <td>0.216429</td>\n    </tr>\n    <tr>\n      <th>diaBP</th>\n      <td>0.057933</td>\n      <td>0.206104</td>\n      <td>-0.062316</td>\n      <td>-0.056632</td>\n      <td>0.194227</td>\n      <td>0.045190</td>\n      <td>0.615751</td>\n      <td>0.050329</td>\n      <td>0.165182</td>\n      <td>0.784002</td>\n      <td>1.000000</td>\n      <td>0.377588</td>\n      <td>0.181255</td>\n      <td>0.061231</td>\n      <td>0.145299</td>\n    </tr>\n    <tr>\n      <th>BMI</th>\n      <td>0.081672</td>\n      <td>0.135800</td>\n      <td>-0.137504</td>\n      <td>-0.092856</td>\n      <td>0.100668</td>\n      <td>0.025891</td>\n      <td>0.301318</td>\n      <td>0.087036</td>\n      <td>0.115767</td>\n      <td>0.326981</td>\n      <td>0.377588</td>\n      <td>1.000000</td>\n      <td>0.067678</td>\n      <td>0.087377</td>\n      <td>0.075192</td>\n    </tr>\n    <tr>\n      <th>heartRate</th>\n      <td>-0.116620</td>\n      <td>-0.012823</td>\n      <td>-0.054206</td>\n      <td>0.075157</td>\n      <td>0.015233</td>\n      <td>-0.017676</td>\n      <td>0.147261</td>\n      <td>0.048994</td>\n      <td>0.091125</td>\n      <td>0.182246</td>\n      <td>0.181255</td>\n      <td>0.067678</td>\n      <td>1.000000</td>\n      <td>0.094500</td>\n      <td>0.022913</td>\n    </tr>\n    <tr>\n      <th>glucose</th>\n      <td>0.006083</td>\n      <td>0.122256</td>\n      <td>-0.035721</td>\n      <td>-0.058960</td>\n      <td>0.051176</td>\n      <td>0.018431</td>\n      <td>0.086834</td>\n      <td>0.617627</td>\n      <td>0.046408</td>\n      <td>0.140621</td>\n      <td>0.061231</td>\n      <td>0.087377</td>\n      <td>0.094500</td>\n      <td>1.000000</td>\n      <td>0.125544</td>\n    </tr>\n    <tr>\n      <th>TenYearCHD</th>\n      <td>0.088428</td>\n      <td>0.225256</td>\n      <td>-0.054059</td>\n      <td>0.057884</td>\n      <td>0.087489</td>\n      <td>0.061810</td>\n      <td>0.177603</td>\n      <td>0.097317</td>\n      <td>0.082184</td>\n      <td>0.216429</td>\n      <td>0.145299</td>\n      <td>0.075192</td>\n      <td>0.022913</td>\n      <td>0.125544</td>\n      <td>1.000000</td>\n    </tr>\n  </tbody>\n</table>\n</div>"
     },
     "execution_count": 261,
     "metadata": {},
     "output_type": "execute_result"
    }
   ],
   "source": [
    "df.corr()"
   ],
   "metadata": {
    "collapsed": false,
    "pycharm": {
     "name": "#%%\n"
    }
   }
  },
  {
   "cell_type": "code",
   "execution_count": 262,
   "outputs": [],
   "source": [
    "#remove null values from dataset\n",
    "df.dropna(axis=0, inplace=True)"
   ],
   "metadata": {
    "collapsed": false,
    "pycharm": {
     "name": "#%%\n"
    }
   }
  },
  {
   "cell_type": "code",
   "execution_count": 263,
   "outputs": [
    {
     "name": "stdout",
     "output_type": "stream",
     "text": [
      "<class 'pandas.core.frame.DataFrame'>\n",
      "Int64Index: 3656 entries, 0 to 4237\n",
      "Data columns (total 15 columns):\n",
      " #   Column           Non-Null Count  Dtype  \n",
      "---  ------           --------------  -----  \n",
      " 0   male             3656 non-null   int64  \n",
      " 1   age              3656 non-null   int64  \n",
      " 2   education        3656 non-null   float64\n",
      " 3   cigsPerDay       3656 non-null   float64\n",
      " 4   BPMeds           3656 non-null   float64\n",
      " 5   prevalentStroke  3656 non-null   int64  \n",
      " 6   prevalentHyp     3656 non-null   int64  \n",
      " 7   diabetes         3656 non-null   int64  \n",
      " 8   totChol          3656 non-null   float64\n",
      " 9   sysBP            3656 non-null   float64\n",
      " 10  diaBP            3656 non-null   float64\n",
      " 11  BMI              3656 non-null   float64\n",
      " 12  heartRate        3656 non-null   float64\n",
      " 13  glucose          3656 non-null   float64\n",
      " 14  TenYearCHD       3656 non-null   int64  \n",
      "dtypes: float64(9), int64(6)\n",
      "memory usage: 457.0 KB\n"
     ]
    }
   ],
   "source": [
    "df.info()"
   ],
   "metadata": {
    "collapsed": false,
    "pycharm": {
     "name": "#%%\n"
    }
   }
  },
  {
   "cell_type": "code",
   "execution_count": 264,
   "outputs": [],
   "source": [
    "#splitting data into train and test data\n",
    "\n",
    "\n",
    "X = df.iloc[:, :-1]\n",
    "Y = df.iloc[:, -1]"
   ],
   "metadata": {
    "collapsed": false,
    "pycharm": {
     "name": "#%%\n"
    }
   }
  },
  {
   "cell_type": "code",
   "execution_count": 265,
   "outputs": [
    {
     "name": "stdout",
     "output_type": "stream",
     "text": [
      "2924\n",
      "732\n"
     ]
    }
   ],
   "source": [
    "from sklearn.model_selection import train_test_split\n",
    "\n",
    "x_train, x_test, y_train, y_test = train_test_split(X, Y, test_size=0.2)\n",
    "\n",
    "print(len(x_train))\n",
    "print(len(x_test))"
   ],
   "metadata": {
    "collapsed": false,
    "pycharm": {
     "name": "#%%\n"
    }
   }
  },
  {
   "cell_type": "code",
   "execution_count": 266,
   "outputs": [
    {
     "name": "stderr",
     "output_type": "stream",
     "text": [
      "C:\\Users\\Philip\\AppData\\Local\\Programs\\Python\\Python310\\lib\\site-packages\\sklearn\\linear_model\\_logistic.py:814: ConvergenceWarning: lbfgs failed to converge (status=1):\n",
      "STOP: TOTAL NO. of ITERATIONS REACHED LIMIT.\n",
      "\n",
      "Increase the number of iterations (max_iter) or scale the data as shown in:\n",
      "    https://scikit-learn.org/stable/modules/preprocessing.html\n",
      "Please also refer to the documentation for alternative solver options:\n",
      "    https://scikit-learn.org/stable/modules/linear_model.html#logistic-regression\n",
      "  n_iter_i = _check_optimize_result(\n"
     ]
    }
   ],
   "source": [
    "#apply logistic regression to our train data\n",
    "from sklearn.linear_model import LogisticRegression\n",
    "\n",
    "model = LogisticRegression()\n",
    "\n",
    "fit = model.fit(x_train, y_train)"
   ],
   "metadata": {
    "collapsed": false,
    "pycharm": {
     "name": "#%%\n"
    }
   }
  },
  {
   "cell_type": "code",
   "execution_count": 267,
   "outputs": [],
   "source": [
    "#predict for test data\n",
    "predicted = model.predict(x_test)"
   ],
   "metadata": {
    "collapsed": false,
    "pycharm": {
     "name": "#%%\n"
    }
   }
  },
  {
   "cell_type": "code",
   "execution_count": 268,
   "outputs": [
    {
     "data": {
      "text/plain": "col_0         0  1\nTenYearCHD        \n0           607  6\n1           113  6",
      "text/html": "<div>\n<style scoped>\n    .dataframe tbody tr th:only-of-type {\n        vertical-align: middle;\n    }\n\n    .dataframe tbody tr th {\n        vertical-align: top;\n    }\n\n    .dataframe thead th {\n        text-align: right;\n    }\n</style>\n<table border=\"1\" class=\"dataframe\">\n  <thead>\n    <tr style=\"text-align: right;\">\n      <th>col_0</th>\n      <th>0</th>\n      <th>1</th>\n    </tr>\n    <tr>\n      <th>TenYearCHD</th>\n      <th></th>\n      <th></th>\n    </tr>\n  </thead>\n  <tbody>\n    <tr>\n      <th>0</th>\n      <td>607</td>\n      <td>6</td>\n    </tr>\n    <tr>\n      <th>1</th>\n      <td>113</td>\n      <td>6</td>\n    </tr>\n  </tbody>\n</table>\n</div>"
     },
     "execution_count": 268,
     "metadata": {},
     "output_type": "execute_result"
    }
   ],
   "source": [
    "#see how our model handeled predicting. this is a confusion matrix\n",
    "pd.crosstab(y_test, predicted)\n"
   ],
   "metadata": {
    "collapsed": false,
    "pycharm": {
     "name": "#%%\n"
    }
   }
  },
  {
   "cell_type": "code",
   "execution_count": 269,
   "outputs": [
    {
     "data": {
      "text/plain": "0.837431693989071"
     },
     "execution_count": 269,
     "metadata": {},
     "output_type": "execute_result"
    }
   ],
   "source": [
    "# calculate R ^ 2\n",
    "model.score(x_test, y_test)"
   ],
   "metadata": {
    "collapsed": false,
    "pycharm": {
     "name": "#%%\n"
    }
   }
  },
  {
   "cell_type": "code",
   "execution_count": 270,
   "outputs": [],
   "source": [
    "# R ^ 2 = 85% is decent"
   ],
   "metadata": {
    "collapsed": false,
    "pycharm": {
     "name": "#%%\n"
    }
   }
  },
  {
   "cell_type": "code",
   "execution_count": 271,
   "outputs": [
    {
     "data": {
      "text/plain": "array([[607,   6],\n       [113,   6]], dtype=int64)"
     },
     "execution_count": 271,
     "metadata": {},
     "output_type": "execute_result"
    }
   ],
   "source": [
    "# confusion matrix (tabela bledow I i II)\n",
    "from sklearn.metrics import confusion_matrix\n",
    "\n",
    "cf = confusion_matrix(y_test, predicted)\n",
    "cf"
   ],
   "metadata": {
    "collapsed": false,
    "pycharm": {
     "name": "#%%\n"
    }
   }
  },
  {
   "cell_type": "code",
   "execution_count": 272,
   "outputs": [
    {
     "data": {
      "text/plain": "<Figure size 432x288 with 2 Axes>",
      "image/png": "[encoded data removed]"
     },
     "metadata": {
      "needs_background": "light"
     },
     "output_type": "display_data"
    }
   ],
   "source": [
    "#present confusion matrix using seaborn\n",
    "import seaborn as sns\n",
    "from matplotlib import pyplot as plt\n",
    "sns.heatmap(pd.DataFrame(cf), annot=True, fmt='g')\n",
    "plt.title('confusion matrix')\n",
    "plt.xlabel('actual label')\n",
    "plt.ylabel('predicted label')\n",
    "plt.show()"
   ],
   "metadata": {
    "collapsed": false,
    "pycharm": {
     "name": "#%%\n"
    }
   }
  },
  {
   "cell_type": "code",
   "execution_count": 273,
   "outputs": [
    {
     "name": "stdout",
     "output_type": "stream",
     "text": [
      "Precision score is: 0.5\n",
      "Recall score is: 0.05042016806722689\n"
     ]
    }
   ],
   "source": [
    "from sklearn.metrics import precision_score, recall_score\n",
    "\n",
    "precision = precision_score(y_test, predicted)\n",
    "recall = recall_score(y_test, predicted)\n",
    "\n",
    "print(f'Precision score is: {precision}')\n",
    "print(f'Recall score is: {recall}')"
   ],
   "metadata": {
    "collapsed": false,
    "pycharm": {
     "name": "#%%\n"
    }
   }
  },
  {
   "cell_type": "code",
   "execution_count": 274,
   "outputs": [
    {
     "name": "stdout",
     "output_type": "stream",
     "text": [
      "              precision    recall  f1-score   support\n",
      "\n",
      "           0       0.84      0.99      0.91       613\n",
      "           1       0.50      0.05      0.09       119\n",
      "\n",
      "    accuracy                           0.84       732\n",
      "   macro avg       0.67      0.52      0.50       732\n",
      "weighted avg       0.79      0.84      0.78       732\n",
      "\n"
     ]
    }
   ],
   "source": [
    "from sklearn.metrics import classification_report\n",
    "\n",
    "print(classification_report(y_test, predicted))"
   ],
   "metadata": {
    "collapsed": false,
    "pycharm": {
     "name": "#%%\n"
    }
   }
  },
  {
   "cell_type": "code",
   "execution_count": 275,
   "outputs": [
    {
     "data": {
      "text/plain": "array([-0.22320504])"
     },
     "execution_count": 275,
     "metadata": {},
     "output_type": "execute_result"
    }
   ],
   "source": [
    "model.intercept_"
   ],
   "metadata": {
    "collapsed": false,
    "pycharm": {
     "name": "#%%\n"
    }
   }
  },
  {
   "cell_type": "code",
   "execution_count": 276,
   "outputs": [
    {
     "data": {
      "text/plain": "array([[ 0.2080127 ,  0.03134873, -0.44299175,  0.00971592,  0.0646558 ,\n         0.0220331 ,  0.55881312,  0.08846878, -0.00135039,  0.01625486,\n        -0.01725207, -0.05901515, -0.0279258 ,  0.0063525 ]])"
     },
     "execution_count": 276,
     "metadata": {},
     "output_type": "execute_result"
    }
   ],
   "source": [
    "model.coef_"
   ],
   "metadata": {
    "collapsed": false,
    "pycharm": {
     "name": "#%%\n"
    }
   }
  }
 ],
 "metadata": {
  "kernelspec": {
   "display_name": "Python 3",
   "language": "python",
   "name": "python3"
  },
  "language_info": {
   "codemirror_mode": {
    "name": "ipython",
    "version": 2
   },
   "file_extension": ".py",
   "mimetype": "text/x-python",
   "name": "python",
   "nbconvert_exporter": "python",
   "pygments_lexer": "ipython2",
   "version": "2.7.6"
  }
 },
 "nbformat": 4,
 "nbformat_minor": 0
}