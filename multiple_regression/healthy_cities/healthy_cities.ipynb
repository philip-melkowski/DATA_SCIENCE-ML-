{
 "cells": [
  {
   "cell_type": "code",
   "execution_count": 11,
   "id": "c8d298cd",
   "metadata": {},
   "outputs": [],
   "source": [
    "import numpy as np\n",
    "import pandas as pd\n",
    "import matplotlib.pyplot as plt\n"
   ]
  },
  {
   "cell_type": "code",
   "execution_count": 12,
   "id": "ccb78591",
   "metadata": {},
   "outputs": [],
   "source": [
    "df = pd.read_csv('healthy_lifestyle_city_2021.csv')\n"
   ]
  },
  {
   "cell_type": "code",
   "execution_count": 14,
   "id": "b02a92b7",
   "metadata": {},
   "outputs": [
    {
     "data": {
      "text/html": [
       "<div>\n",
       "<style scoped>\n",
       "    .dataframe tbody tr th:only-of-type {\n",
       "        vertical-align: middle;\n",
       "    }\n",
       "\n",
       "    .dataframe tbody tr th {\n",
       "        vertical-align: top;\n",
       "    }\n",
       "\n",
       "    .dataframe thead th {\n",
       "        text-align: right;\n",
       "    }\n",
       "</style>\n",
       "<table border=\"1\" class=\"dataframe\">\n",
       "  <thead>\n",
       "    <tr style=\"text-align: right;\">\n",
       "      <th></th>\n",
       "      <th>City</th>\n",
       "      <th>Rank</th>\n",
       "      <th>Sunshine hours(City)</th>\n",
       "      <th>Cost of a bottle of water(City)</th>\n",
       "      <th>Obesity levels(Country)</th>\n",
       "      <th>Life expectancy(years) (Country)</th>\n",
       "      <th>Pollution(Index score) (City)</th>\n",
       "      <th>Annual avg. hours worked</th>\n",
       "      <th>Happiness levels(Country)</th>\n",
       "      <th>Outdoor activities(City)</th>\n",
       "      <th>Number of take out places(City)</th>\n",
       "      <th>Cost of a monthly gym membership(City)</th>\n",
       "    </tr>\n",
       "  </thead>\n",
       "  <tbody>\n",
       "    <tr>\n",
       "      <th>0</th>\n",
       "      <td>Amsterdam</td>\n",
       "      <td>1</td>\n",
       "      <td>1858</td>\n",
       "      <td>£1.92</td>\n",
       "      <td>20.40%</td>\n",
       "      <td>81.2</td>\n",
       "      <td>30.93</td>\n",
       "      <td>1434</td>\n",
       "      <td>7.44</td>\n",
       "      <td>422</td>\n",
       "      <td>1048</td>\n",
       "      <td>£34.90</td>\n",
       "    </tr>\n",
       "    <tr>\n",
       "      <th>1</th>\n",
       "      <td>Sydney</td>\n",
       "      <td>2</td>\n",
       "      <td>2636</td>\n",
       "      <td>£1.48</td>\n",
       "      <td>29.00%</td>\n",
       "      <td>82.1</td>\n",
       "      <td>26.86</td>\n",
       "      <td>1712</td>\n",
       "      <td>7.22</td>\n",
       "      <td>406</td>\n",
       "      <td>1103</td>\n",
       "      <td>£41.66</td>\n",
       "    </tr>\n",
       "    <tr>\n",
       "      <th>2</th>\n",
       "      <td>Vienna</td>\n",
       "      <td>3</td>\n",
       "      <td>1884</td>\n",
       "      <td>£1.94</td>\n",
       "      <td>20.10%</td>\n",
       "      <td>81.0</td>\n",
       "      <td>17.33</td>\n",
       "      <td>1501</td>\n",
       "      <td>7.29</td>\n",
       "      <td>132</td>\n",
       "      <td>1008</td>\n",
       "      <td>£25.74</td>\n",
       "    </tr>\n",
       "    <tr>\n",
       "      <th>3</th>\n",
       "      <td>Stockholm</td>\n",
       "      <td>4</td>\n",
       "      <td>1821</td>\n",
       "      <td>£1.72</td>\n",
       "      <td>20.60%</td>\n",
       "      <td>81.8</td>\n",
       "      <td>19.63</td>\n",
       "      <td>1452</td>\n",
       "      <td>7.35</td>\n",
       "      <td>129</td>\n",
       "      <td>598</td>\n",
       "      <td>£37.31</td>\n",
       "    </tr>\n",
       "    <tr>\n",
       "      <th>4</th>\n",
       "      <td>Copenhagen</td>\n",
       "      <td>5</td>\n",
       "      <td>1630</td>\n",
       "      <td>£2.19</td>\n",
       "      <td>19.70%</td>\n",
       "      <td>79.8</td>\n",
       "      <td>21.24</td>\n",
       "      <td>1380</td>\n",
       "      <td>7.64</td>\n",
       "      <td>154</td>\n",
       "      <td>523</td>\n",
       "      <td>£32.53</td>\n",
       "    </tr>\n",
       "  </tbody>\n",
       "</table>\n",
       "</div>"
      ],
      "text/plain": [
       "         City  Rank Sunshine hours(City) Cost of a bottle of water(City)  \\\n",
       "0   Amsterdam     1                 1858                           £1.92   \n",
       "1      Sydney     2                 2636                           £1.48   \n",
       "2      Vienna     3                 1884                           £1.94   \n",
       "3   Stockholm     4                 1821                           £1.72   \n",
       "4  Copenhagen     5                 1630                           £2.19   \n",
       "\n",
       "  Obesity levels(Country)  Life expectancy(years) (Country)  \\\n",
       "0                  20.40%                              81.2   \n",
       "1                  29.00%                              82.1   \n",
       "2                  20.10%                              81.0   \n",
       "3                  20.60%                              81.8   \n",
       "4                  19.70%                              79.8   \n",
       "\n",
       "  Pollution(Index score) (City) Annual avg. hours worked  \\\n",
       "0                         30.93                     1434   \n",
       "1                         26.86                     1712   \n",
       "2                         17.33                     1501   \n",
       "3                         19.63                     1452   \n",
       "4                         21.24                     1380   \n",
       "\n",
       "   Happiness levels(Country)  Outdoor activities(City)  \\\n",
       "0                       7.44                       422   \n",
       "1                       7.22                       406   \n",
       "2                       7.29                       132   \n",
       "3                       7.35                       129   \n",
       "4                       7.64                       154   \n",
       "\n",
       "   Number of take out places(City) Cost of a monthly gym membership(City)  \n",
       "0                             1048                                 £34.90  \n",
       "1                             1103                                 £41.66  \n",
       "2                             1008                                 £25.74  \n",
       "3                              598                                 £37.31  \n",
       "4                              523                                 £32.53  "
      ]
     },
     "execution_count": 14,
     "metadata": {},
     "output_type": "execute_result"
    }
   ],
   "source": [
    "\n",
    "df.head(5)"
   ]
  },
  {
   "cell_type": "code",
   "execution_count": 20,
   "id": "f891ed0a",
   "metadata": {},
   "outputs": [
    {
     "name": "stdout",
     "output_type": "stream",
     "text": [
      "<class 'pandas.core.frame.DataFrame'>\n",
      "RangeIndex: 44 entries, 0 to 43\n",
      "Data columns (total 12 columns):\n",
      " #   Column                                  Non-Null Count  Dtype \n",
      "---  ------                                  --------------  ----- \n",
      " 0   City                                    44 non-null     object\n",
      " 1   Rank                                    44 non-null     object\n",
      " 2   Sunshine hours(City)                    44 non-null     object\n",
      " 3   Cost of a bottle of water(City)         44 non-null     object\n",
      " 4   Obesity levels(Country)                 44 non-null     object\n",
      " 5   Life expectancy(years) (Country)        44 non-null     object\n",
      " 6   Pollution(Index score) (City)           44 non-null     object\n",
      " 7   Annual avg. hours worked                44 non-null     object\n",
      " 8   Happiness levels(Country)               44 non-null     object\n",
      " 9   Outdoor activities(City)                44 non-null     object\n",
      " 10  Number of take out places(City)         44 non-null     object\n",
      " 11  Cost of a monthly gym membership(City)  44 non-null     object\n",
      "dtypes: object(12)\n",
      "memory usage: 4.2+ KB\n"
     ]
    }
   ],
   "source": [
    "df.info()"
   ]
  },
  {
   "cell_type": "code",
   "execution_count": 24,
   "id": "5e4e67fd",
   "metadata": {},
   "outputs": [
    {
     "data": {
      "text/html": [
       "<div>\n",
       "<style scoped>\n",
       "    .dataframe tbody tr th:only-of-type {\n",
       "        vertical-align: middle;\n",
       "    }\n",
       "\n",
       "    .dataframe tbody tr th {\n",
       "        vertical-align: top;\n",
       "    }\n",
       "\n",
       "    .dataframe thead th {\n",
       "        text-align: right;\n",
       "    }\n",
       "</style>\n",
       "<table border=\"1\" class=\"dataframe\">\n",
       "  <thead>\n",
       "    <tr style=\"text-align: right;\">\n",
       "      <th></th>\n",
       "      <th>count</th>\n",
       "      <th>unique</th>\n",
       "      <th>top</th>\n",
       "      <th>freq</th>\n",
       "    </tr>\n",
       "  </thead>\n",
       "  <tbody>\n",
       "    <tr>\n",
       "      <th>City</th>\n",
       "      <td>44</td>\n",
       "      <td>44</td>\n",
       "      <td>Amsterdam</td>\n",
       "      <td>1</td>\n",
       "    </tr>\n",
       "    <tr>\n",
       "      <th>Rank</th>\n",
       "      <td>44</td>\n",
       "      <td>44</td>\n",
       "      <td>1</td>\n",
       "      <td>1</td>\n",
       "    </tr>\n",
       "    <tr>\n",
       "      <th>Sunshine hours(City)</th>\n",
       "      <td>44</td>\n",
       "      <td>40</td>\n",
       "      <td>1662</td>\n",
       "      <td>3</td>\n",
       "    </tr>\n",
       "    <tr>\n",
       "      <th>Cost of a bottle of water(City)</th>\n",
       "      <td>44</td>\n",
       "      <td>39</td>\n",
       "      <td>£0.15</td>\n",
       "      <td>2</td>\n",
       "    </tr>\n",
       "    <tr>\n",
       "      <th>Obesity levels(Country)</th>\n",
       "      <td>44</td>\n",
       "      <td>28</td>\n",
       "      <td>36.20%</td>\n",
       "      <td>6</td>\n",
       "    </tr>\n",
       "    <tr>\n",
       "      <th>Life expectancy(years) (Country)</th>\n",
       "      <td>44.0</td>\n",
       "      <td>27.0</td>\n",
       "      <td>78.8</td>\n",
       "      <td>6.0</td>\n",
       "    </tr>\n",
       "    <tr>\n",
       "      <th>Pollution(Index score) (City)</th>\n",
       "      <td>44</td>\n",
       "      <td>44</td>\n",
       "      <td>30.93</td>\n",
       "      <td>1</td>\n",
       "    </tr>\n",
       "    <tr>\n",
       "      <th>Annual avg. hours worked</th>\n",
       "      <td>44</td>\n",
       "      <td>23</td>\n",
       "      <td>-</td>\n",
       "      <td>11</td>\n",
       "    </tr>\n",
       "    <tr>\n",
       "      <th>Happiness levels(Country)</th>\n",
       "      <td>44.0</td>\n",
       "      <td>30.0</td>\n",
       "      <td>6.94</td>\n",
       "      <td>6.0</td>\n",
       "    </tr>\n",
       "    <tr>\n",
       "      <th>Outdoor activities(City)</th>\n",
       "      <td>44</td>\n",
       "      <td>43</td>\n",
       "      <td>223</td>\n",
       "      <td>2</td>\n",
       "    </tr>\n",
       "    <tr>\n",
       "      <th>Number of take out places(City)</th>\n",
       "      <td>44</td>\n",
       "      <td>44</td>\n",
       "      <td>1048</td>\n",
       "      <td>1</td>\n",
       "    </tr>\n",
       "    <tr>\n",
       "      <th>Cost of a monthly gym membership(City)</th>\n",
       "      <td>44</td>\n",
       "      <td>44</td>\n",
       "      <td>£34.90</td>\n",
       "      <td>1</td>\n",
       "    </tr>\n",
       "  </tbody>\n",
       "</table>\n",
       "</div>"
      ],
      "text/plain": [
       "                                       count unique        top freq\n",
       "City                                      44     44  Amsterdam    1\n",
       "Rank                                      44     44          1    1\n",
       "Sunshine hours(City)                      44     40       1662    3\n",
       "Cost of a bottle of water(City)           44     39      £0.15    2\n",
       "Obesity levels(Country)                   44     28     36.20%    6\n",
       "Life expectancy(years) (Country)        44.0   27.0       78.8  6.0\n",
       "Pollution(Index score) (City)             44     44      30.93    1\n",
       "Annual avg. hours worked                  44     23          -   11\n",
       "Happiness levels(Country)               44.0   30.0       6.94  6.0\n",
       "Outdoor activities(City)                  44     43        223    2\n",
       "Number of take out places(City)           44     44       1048    1\n",
       "Cost of a monthly gym membership(City)    44     44     £34.90    1"
      ]
     },
     "execution_count": 24,
     "metadata": {},
     "output_type": "execute_result"
    }
   ],
   "source": [
    "df.describe().T"
   ]
  },
  {
   "cell_type": "code",
   "execution_count": 26,
   "id": "693efa1e",
   "metadata": {},
   "outputs": [
    {
     "data": {
      "text/plain": [
       "(44, 12)"
      ]
     },
     "execution_count": 26,
     "metadata": {},
     "output_type": "execute_result"
    }
   ],
   "source": [
    "df.shape"
   ]
  },
  {
   "cell_type": "code",
   "execution_count": 29,
   "id": "c169d881",
   "metadata": {},
   "outputs": [
    {
     "data": {
      "text/plain": [
       "['City',\n",
       " 'Rank',\n",
       " 'Sunshine hours(City)',\n",
       " 'Cost of a bottle of water(City)',\n",
       " 'Obesity levels(Country)',\n",
       " 'Life expectancy(years) (Country)',\n",
       " 'Pollution(Index score) (City)',\n",
       " 'Annual avg. hours worked',\n",
       " 'Happiness levels(Country)',\n",
       " 'Outdoor activities(City)',\n",
       " 'Number of take out places(City)',\n",
       " 'Cost of a monthly gym membership(City)']"
      ]
     },
     "execution_count": 29,
     "metadata": {},
     "output_type": "execute_result"
    }
   ],
   "source": [
    "df.columns.tolist()"
   ]
  },
  {
   "cell_type": "markdown",
   "id": "93cb98ae",
   "metadata": {},
   "source": [
    "Visualizing the relationship between happiness and life expectancy using scatter plot"
   ]
  },
  {
   "cell_type": "code",
   "execution_count": 31,
   "id": "34919136",
   "metadata": {},
   "outputs": [
    {
     "data": {
      "image/png": "[encoded data removed]",
      "text/plain": [
       "<Figure size 432x288 with 1 Axes>"
      ]
     },
     "metadata": {
      "needs_background": "light"
     },
     "output_type": "display_data"
    }
   ],
   "source": [
    "plt.scatter(df['Happiness levels(Country)'], df['Life expectancy(years) (Country)'])\n",
    "plt.xlabel('Happiness level')\n",
    "plt.ylabel('Life expectancy in years')\n",
    "plt.title('Relation between happiness levels and life expectancy')\n",
    "plt.show()"
   ]
  },
  {
   "cell_type": "markdown",
   "id": "2f6b063e",
   "metadata": {},
   "source": [
    "from the plot we can tell there's some linear relation connecting the 2 variables\n",
    "I'll try to train a linear regression model for these 2 vars"
   ]
  },
  {
   "cell_type": "code",
   "execution_count": 32,
   "id": "cc470d19",
   "metadata": {},
   "outputs": [],
   "source": [
    "from sklearn.linear_model import LinearRegression\n",
    "from sklearn.model_selection import train_test_split"
   ]
  },
  {
   "cell_type": "markdown",
   "id": "726ac7af",
   "metadata": {},
   "source": [
    "dataset is not too big, we will give the train set 15% of the dataset"
   ]
  },
  {
   "cell_type": "code",
   "execution_count": 39,
   "id": "adb82dbd",
   "metadata": {},
   "outputs": [],
   "source": [
    "X = df['Happiness levels(Country)'].values.reshape(-1, 1)  \n",
    "Y = df['Life expectancy(years) (Country)'].values.reshape(-1, 1)\n",
    "x_train, x_test, y_train, y_test = train_test_split(X, Y, test_size=0.15)"
   ]
  },
  {
   "cell_type": "markdown",
   "id": "d20ce4d6",
   "metadata": {},
   "source": [
    "make model\n"
   ]
  },
  {
   "cell_type": "code",
   "execution_count": 41,
   "id": "75e4bf00",
   "metadata": {},
   "outputs": [
    {
     "data": {
      "text/plain": [
       "LinearRegression()"
      ]
     },
     "execution_count": 41,
     "metadata": {},
     "output_type": "execute_result"
    }
   ],
   "source": [
    "model = LinearRegression()\n",
    "model.fit(x_train, y_train)\n"
   ]
  },
  {
   "cell_type": "code",
   "execution_count": 43,
   "id": "67b0748e",
   "metadata": {},
   "outputs": [
    {
     "data": {
      "text/plain": [
       "(array([[4.06572357]]), array([51.73334472]))"
      ]
     },
     "execution_count": 43,
     "metadata": {},
     "output_type": "execute_result"
    }
   ],
   "source": [
    "# see coefficients\n",
    "model.coef_, model.intercept_"
   ]
  },
  {
   "cell_type": "markdown",
   "id": "0fb95cb0",
   "metadata": {},
   "source": [
    "R ^ 2"
   ]
  },
  {
   "cell_type": "code",
   "execution_count": 49,
   "id": "b5a2fbd0",
   "metadata": {},
   "outputs": [
    {
     "data": {
      "text/plain": [
       "0.11006568859419552"
      ]
     },
     "execution_count": 49,
     "metadata": {},
     "output_type": "execute_result"
    }
   ],
   "source": [
    "model.score(x_test, y_test)"
   ]
  },
  {
   "cell_type": "markdown",
   "id": "80340fbc",
   "metadata": {},
   "source": [
    "R ^ 2 value very low"
   ]
  },
  {
   "cell_type": "code",
   "execution_count": 46,
   "id": "f6423474",
   "metadata": {},
   "outputs": [
    {
     "data": {
      "text/plain": [
       "'Life expectancy model: 4.065723574083313 * happiness + 51.73334471820371'"
      ]
     },
     "execution_count": 46,
     "metadata": {},
     "output_type": "execute_result"
    }
   ],
   "source": [
    "f'Life expectancy model: {model.coef_[0][0]} * happiness + {model.intercept_[0]}'"
   ]
  },
  {
   "cell_type": "markdown",
   "id": "1fb8d5e7",
   "metadata": {},
   "source": [
    "prediction\n"
   ]
  },
  {
   "cell_type": "code",
   "execution_count": 44,
   "id": "ae6dcf17",
   "metadata": {},
   "outputs": [
    {
     "data": {
      "text/plain": [
       "array([[79.94946632],\n",
       "       [72.54984942],\n",
       "       [79.94946632],\n",
       "       [82.47021494],\n",
       "       [77.75397559],\n",
       "       [72.59050665],\n",
       "       [77.67266112]])"
      ]
     },
     "execution_count": 44,
     "metadata": {},
     "output_type": "execute_result"
    }
   ],
   "source": [
    "prediction = model.predict(x_test)\n",
    "prediction"
   ]
  },
  {
   "cell_type": "markdown",
   "id": "05ab1a7d",
   "metadata": {},
   "source": [
    "plotting predicted y values next to test y values\n"
   ]
  },
  {
   "cell_type": "code",
   "execution_count": 51,
   "id": "48b7722a",
   "metadata": {},
   "outputs": [
    {
     "data": {
      "image/png": "[encoded data removed]",
      "text/plain": [
       "<Figure size 432x288 with 1 Axes>"
      ]
     },
     "metadata": {
      "needs_background": "light"
     },
     "output_type": "display_data"
    }
   ],
   "source": [
    "plt.scatter(x_test, y_test)\n",
    "plt.plot(x_test, model.predict(x_test))\n",
    "plt.title('Fitting of the model to the test data')\n",
    "plt.xlabel('Happiness')\n",
    "plt.ylabel('Life expectancy in years')\n",
    "plt.show()"
   ]
  },
  {
   "cell_type": "markdown",
   "id": "1af441fe",
   "metadata": {},
   "source": [
    "# Multiple linear regression "
   ]
  },
  {
   "cell_type": "code",
   "execution_count": 55,
   "id": "d2caa726",
   "metadata": {},
   "outputs": [
    {
     "data": {
      "text/html": [
       "<div>\n",
       "<style scoped>\n",
       "    .dataframe tbody tr th:only-of-type {\n",
       "        vertical-align: middle;\n",
       "    }\n",
       "\n",
       "    .dataframe tbody tr th {\n",
       "        vertical-align: top;\n",
       "    }\n",
       "\n",
       "    .dataframe thead th {\n",
       "        text-align: right;\n",
       "    }\n",
       "</style>\n",
       "<table border=\"1\" class=\"dataframe\">\n",
       "  <thead>\n",
       "    <tr style=\"text-align: right;\">\n",
       "      <th></th>\n",
       "      <th>City</th>\n",
       "      <th>Rank</th>\n",
       "      <th>Sunshine hours(City)</th>\n",
       "      <th>Cost of a bottle of water(City)</th>\n",
       "      <th>Obesity levels(Country)</th>\n",
       "      <th>Life expectancy(years) (Country)</th>\n",
       "      <th>Pollution(Index score) (City)</th>\n",
       "      <th>Annual avg. hours worked</th>\n",
       "      <th>Happiness levels(Country)</th>\n",
       "      <th>Outdoor activities(City)</th>\n",
       "      <th>Number of take out places(City)</th>\n",
       "      <th>Cost of a monthly gym membership(City)</th>\n",
       "    </tr>\n",
       "  </thead>\n",
       "  <tbody>\n",
       "    <tr>\n",
       "      <th>0</th>\n",
       "      <td>Amsterdam</td>\n",
       "      <td>1</td>\n",
       "      <td>1858</td>\n",
       "      <td>£1.92</td>\n",
       "      <td>20.40%</td>\n",
       "      <td>81.2</td>\n",
       "      <td>30.93</td>\n",
       "      <td>1434</td>\n",
       "      <td>7.44</td>\n",
       "      <td>422</td>\n",
       "      <td>1048</td>\n",
       "      <td>£34.90</td>\n",
       "    </tr>\n",
       "    <tr>\n",
       "      <th>1</th>\n",
       "      <td>Sydney</td>\n",
       "      <td>2</td>\n",
       "      <td>2636</td>\n",
       "      <td>£1.48</td>\n",
       "      <td>29.00%</td>\n",
       "      <td>82.1</td>\n",
       "      <td>26.86</td>\n",
       "      <td>1712</td>\n",
       "      <td>7.22</td>\n",
       "      <td>406</td>\n",
       "      <td>1103</td>\n",
       "      <td>£41.66</td>\n",
       "    </tr>\n",
       "    <tr>\n",
       "      <th>2</th>\n",
       "      <td>Vienna</td>\n",
       "      <td>3</td>\n",
       "      <td>1884</td>\n",
       "      <td>£1.94</td>\n",
       "      <td>20.10%</td>\n",
       "      <td>81.0</td>\n",
       "      <td>17.33</td>\n",
       "      <td>1501</td>\n",
       "      <td>7.29</td>\n",
       "      <td>132</td>\n",
       "      <td>1008</td>\n",
       "      <td>£25.74</td>\n",
       "    </tr>\n",
       "    <tr>\n",
       "      <th>3</th>\n",
       "      <td>Stockholm</td>\n",
       "      <td>4</td>\n",
       "      <td>1821</td>\n",
       "      <td>£1.72</td>\n",
       "      <td>20.60%</td>\n",
       "      <td>81.8</td>\n",
       "      <td>19.63</td>\n",
       "      <td>1452</td>\n",
       "      <td>7.35</td>\n",
       "      <td>129</td>\n",
       "      <td>598</td>\n",
       "      <td>£37.31</td>\n",
       "    </tr>\n",
       "    <tr>\n",
       "      <th>4</th>\n",
       "      <td>Copenhagen</td>\n",
       "      <td>5</td>\n",
       "      <td>1630</td>\n",
       "      <td>£2.19</td>\n",
       "      <td>19.70%</td>\n",
       "      <td>79.8</td>\n",
       "      <td>21.24</td>\n",
       "      <td>1380</td>\n",
       "      <td>7.64</td>\n",
       "      <td>154</td>\n",
       "      <td>523</td>\n",
       "      <td>£32.53</td>\n",
       "    </tr>\n",
       "  </tbody>\n",
       "</table>\n",
       "</div>"
      ],
      "text/plain": [
       "         City Rank Sunshine hours(City) Cost of a bottle of water(City)  \\\n",
       "0   Amsterdam    1                 1858                           £1.92   \n",
       "1      Sydney    2                 2636                           £1.48   \n",
       "2      Vienna    3                 1884                           £1.94   \n",
       "3   Stockholm    4                 1821                           £1.72   \n",
       "4  Copenhagen    5                 1630                           £2.19   \n",
       "\n",
       "  Obesity levels(Country) Life expectancy(years) (Country)  \\\n",
       "0                  20.40%                             81.2   \n",
       "1                  29.00%                             82.1   \n",
       "2                  20.10%                             81.0   \n",
       "3                  20.60%                             81.8   \n",
       "4                  19.70%                             79.8   \n",
       "\n",
       "  Pollution(Index score) (City) Annual avg. hours worked  \\\n",
       "0                         30.93                     1434   \n",
       "1                         26.86                     1712   \n",
       "2                         17.33                     1501   \n",
       "3                         19.63                     1452   \n",
       "4                         21.24                     1380   \n",
       "\n",
       "  Happiness levels(Country) Outdoor activities(City)  \\\n",
       "0                      7.44                      422   \n",
       "1                      7.22                      406   \n",
       "2                      7.29                      132   \n",
       "3                      7.35                      129   \n",
       "4                      7.64                      154   \n",
       "\n",
       "  Number of take out places(City) Cost of a monthly gym membership(City)  \n",
       "0                            1048                                 £34.90  \n",
       "1                            1103                                 £41.66  \n",
       "2                            1008                                 £25.74  \n",
       "3                             598                                 £37.31  \n",
       "4                             523                                 £32.53  "
      ]
     },
     "execution_count": 55,
     "metadata": {},
     "output_type": "execute_result"
    }
   ],
   "source": [
    "df.head(5)"
   ]
  },
  {
   "cell_type": "code",
   "execution_count": 56,
   "id": "4c677725",
   "metadata": {},
   "outputs": [
    {
     "name": "stdout",
     "output_type": "stream",
     "text": [
      "<class 'pandas.core.frame.DataFrame'>\n",
      "RangeIndex: 44 entries, 0 to 43\n",
      "Data columns (total 12 columns):\n",
      " #   Column                                  Non-Null Count  Dtype \n",
      "---  ------                                  --------------  ----- \n",
      " 0   City                                    44 non-null     object\n",
      " 1   Rank                                    44 non-null     object\n",
      " 2   Sunshine hours(City)                    44 non-null     object\n",
      " 3   Cost of a bottle of water(City)         44 non-null     object\n",
      " 4   Obesity levels(Country)                 44 non-null     object\n",
      " 5   Life expectancy(years) (Country)        44 non-null     object\n",
      " 6   Pollution(Index score) (City)           44 non-null     object\n",
      " 7   Annual avg. hours worked                44 non-null     object\n",
      " 8   Happiness levels(Country)               44 non-null     object\n",
      " 9   Outdoor activities(City)                44 non-null     object\n",
      " 10  Number of take out places(City)         44 non-null     object\n",
      " 11  Cost of a monthly gym membership(City)  44 non-null     object\n",
      "dtypes: object(12)\n",
      "memory usage: 4.2+ KB\n"
     ]
    }
   ],
   "source": [
    "df.info()"
   ]
  },
  {
   "cell_type": "markdown",
   "id": "23ce8c2e",
   "metadata": {},
   "source": [
    "add popultion index score and outdoor activities and number of take out places"
   ]
  },
  {
   "cell_type": "markdown",
   "id": "fdc7286d",
   "metadata": {},
   "source": [
    "need to remove the rows with '-' values for pollution"
   ]
  },
  {
   "cell_type": "code",
   "execution_count": 123,
   "id": "a7ae5468",
   "metadata": {},
   "outputs": [
    {
     "data": {
      "text/html": [
       "<div>\n",
       "<style scoped>\n",
       "    .dataframe tbody tr th:only-of-type {\n",
       "        vertical-align: middle;\n",
       "    }\n",
       "\n",
       "    .dataframe tbody tr th {\n",
       "        vertical-align: top;\n",
       "    }\n",
       "\n",
       "    .dataframe thead th {\n",
       "        text-align: right;\n",
       "    }\n",
       "</style>\n",
       "<table border=\"1\" class=\"dataframe\">\n",
       "  <thead>\n",
       "    <tr style=\"text-align: right;\">\n",
       "      <th></th>\n",
       "      <th>Obesity levels(Country)</th>\n",
       "      <th>Pollution(Index score) (City)</th>\n",
       "      <th>Happiness levels(Country)</th>\n",
       "      <th>Number of take out places(City)</th>\n",
       "    </tr>\n",
       "  </thead>\n",
       "  <tbody>\n",
       "    <tr>\n",
       "      <th>0</th>\n",
       "      <td>0.204</td>\n",
       "      <td>30.93</td>\n",
       "      <td>7.44</td>\n",
       "      <td>1048</td>\n",
       "    </tr>\n",
       "    <tr>\n",
       "      <th>1</th>\n",
       "      <td>0.290</td>\n",
       "      <td>26.86</td>\n",
       "      <td>7.22</td>\n",
       "      <td>1103</td>\n",
       "    </tr>\n",
       "    <tr>\n",
       "      <th>2</th>\n",
       "      <td>0.201</td>\n",
       "      <td>17.33</td>\n",
       "      <td>7.29</td>\n",
       "      <td>1008</td>\n",
       "    </tr>\n",
       "    <tr>\n",
       "      <th>3</th>\n",
       "      <td>0.206</td>\n",
       "      <td>19.63</td>\n",
       "      <td>7.35</td>\n",
       "      <td>598</td>\n",
       "    </tr>\n",
       "    <tr>\n",
       "      <th>4</th>\n",
       "      <td>0.197</td>\n",
       "      <td>21.24</td>\n",
       "      <td>7.64</td>\n",
       "      <td>523</td>\n",
       "    </tr>\n",
       "  </tbody>\n",
       "</table>\n",
       "</div>"
      ],
      "text/plain": [
       "   Obesity levels(Country) Pollution(Index score) (City)  \\\n",
       "0                    0.204                         30.93   \n",
       "1                    0.290                         26.86   \n",
       "2                    0.201                         17.33   \n",
       "3                    0.206                         19.63   \n",
       "4                    0.197                         21.24   \n",
       "\n",
       "  Happiness levels(Country) Number of take out places(City)  \n",
       "0                      7.44                            1048  \n",
       "1                      7.22                            1103  \n",
       "2                      7.29                            1008  \n",
       "3                      7.35                             598  \n",
       "4                      7.64                             523  "
      ]
     },
     "execution_count": 123,
     "metadata": {},
     "output_type": "execute_result"
    }
   ],
   "source": [
    "new_df = df.copy()\n",
    "new_df = new_df[new_df['Pollution(Index score) (City)'] != '-']\n",
    "X = new_df.drop(['City',\n",
    "              'Rank',\n",
    "              'Sunshine hours(City)',\n",
    "              'Cost of a bottle of water(City)',\n",
    "              'Life expectancy(years) (Country)',\n",
    "              'Outdoor activities(City)',\n",
    "              'Annual avg. hours worked',\n",
    "             'Cost of a monthly gym membership(City)'], axis=1)\n",
    "X['Obesity levels(Country)'] = X['Obesity levels(Country)'].str.strip('%').astype('float') / 100\n",
    "\n",
    "X.head()\n"
   ]
  },
  {
   "cell_type": "code",
   "execution_count": 114,
   "id": "8af08c22",
   "metadata": {},
   "outputs": [],
   "source": [
    "Y = new_df['Life expectancy(years) (Country)'].values.reshape(-1, 1)\n"
   ]
  },
  {
   "cell_type": "code",
   "execution_count": 115,
   "id": "d59583c5",
   "metadata": {},
   "outputs": [],
   "source": [
    "model_2 = LinearRegression()\n",
    "x_train, x_test, y_train, y_test = train_test_split(X, Y, test_size=0.2)"
   ]
  },
  {
   "cell_type": "code",
   "execution_count": 116,
   "id": "93d08f60",
   "metadata": {},
   "outputs": [
    {
     "data": {
      "text/plain": [
       "LinearRegression()"
      ]
     },
     "execution_count": 116,
     "metadata": {},
     "output_type": "execute_result"
    }
   ],
   "source": [
    "model_2.fit(x_train, y_train)"
   ]
  },
  {
   "cell_type": "markdown",
   "id": "192757eb",
   "metadata": {},
   "source": [
    "model coeffs and intercept\n"
   ]
  },
  {
   "cell_type": "code",
   "execution_count": 117,
   "id": "544f8ab1",
   "metadata": {},
   "outputs": [
    {
     "data": {
      "text/plain": [
       "array([[-1.40553606e+01,  2.76843417e-02,  4.83728855e+00,\n",
       "         6.02380129e-04]])"
      ]
     },
     "execution_count": 117,
     "metadata": {},
     "output_type": "execute_result"
    }
   ],
   "source": [
    "model_2.coef_"
   ]
  },
  {
   "cell_type": "code",
   "execution_count": 118,
   "id": "f968e3eb",
   "metadata": {},
   "outputs": [
    {
     "data": {
      "text/plain": [
       "array([48.10224579])"
      ]
     },
     "execution_count": 118,
     "metadata": {},
     "output_type": "execute_result"
    }
   ],
   "source": [
    "model_2.intercept_"
   ]
  },
  {
   "cell_type": "markdown",
   "id": "45e30a9f",
   "metadata": {},
   "source": [
    "model"
   ]
  },
  {
   "cell_type": "markdown",
   "id": "ce2f3903",
   "metadata": {},
   "source": [
    "# Life expectancy = -1.405 * obesity levels (%) + 2.7684 * pollution index score + 4.8372 happiness level + 6.023 * no of takeout places"
   ]
  },
  {
   "cell_type": "code",
   "execution_count": 120,
   "id": "ca9bc77c",
   "metadata": {},
   "outputs": [
    {
     "data": {
      "text/plain": [
       "0.3211645073024497"
      ]
     },
     "execution_count": 120,
     "metadata": {},
     "output_type": "execute_result"
    }
   ],
   "source": [
    "# R ^ 2\n",
    "model_2.score(x_test, y_test)"
   ]
  },
  {
   "cell_type": "code",
   "execution_count": 121,
   "id": "d19ec24d",
   "metadata": {},
   "outputs": [],
   "source": [
    "# R ^ 2 slightly higher, still very low"
   ]
  },
  {
   "cell_type": "code",
   "execution_count": 132,
   "id": "827752bf",
   "metadata": {},
   "outputs": [
    {
     "data": {
      "text/plain": [
       "array([[83.19328448],\n",
       "       [80.54535629],\n",
       "       [75.32491061],\n",
       "       [81.30008556],\n",
       "       [75.18071535],\n",
       "       [80.35944123],\n",
       "       [80.03918126],\n",
       "       [77.67156212],\n",
       "       [75.51137368]])"
      ]
     },
     "execution_count": 132,
     "metadata": {},
     "output_type": "execute_result"
    }
   ],
   "source": [
    "predict = model_2.predict(x_test)\n",
    "predict"
   ]
  },
  {
   "cell_type": "code",
   "execution_count": 130,
   "id": "adbedcd1",
   "metadata": {},
   "outputs": [
    {
     "data": {
      "text/plain": [
       "4.050414982237218"
      ]
     },
     "execution_count": 130,
     "metadata": {},
     "output_type": "execute_result"
    }
   ],
   "source": [
    "#calculate st dev\n",
    "from sklearn.metrics import mean_squared_error\n",
    "\n",
    "mse = mean_squared_error(predict, y_test)\n",
    "np.sqrt(mse)"
   ]
  }
 ],
 "metadata": {
  "kernelspec": {
   "display_name": "Python 3 (ipykernel)",
   "language": "python",
   "name": "python3"
  },
  "language_info": {
   "codemirror_mode": {
    "name": "ipython",
    "version": 3
   },
   "file_extension": ".py",
   "mimetype": "text/x-python",
   "name": "python",
   "nbconvert_exporter": "python",
   "pygments_lexer": "ipython3",
   "version": "3.10.1"
  }
 },
 "nbformat": 4,
 "nbformat_minor": 5
}
