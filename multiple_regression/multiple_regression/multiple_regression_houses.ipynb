{
 "cells": [
  {
   "cell_type": "code",
   "execution_count": 101,
   "outputs": [],
   "source": [
    "# data avaiable at https://www.kaggle.com/datasets/quantbruce/real-estate-price-prediction"
   ],
   "metadata": {
    "collapsed": false,
    "pycharm": {
     "name": "#%%\n"
    }
   }
  },
  {
   "cell_type": "code",
   "execution_count": 102,
   "outputs": [],
   "source": [
    "from matplotlib import pyplot as plt\n",
    "import pandas as pd"
   ],
   "metadata": {
    "collapsed": false,
    "pycharm": {
     "name": "#%%\n"
    }
   }
  },
  {
   "cell_type": "code",
   "execution_count": 103,
   "outputs": [
    {
     "data": {
      "text/plain": "   No  X1 transaction date  X2 house age  \\\n0   1             2012.917          32.0   \n1   2             2012.917          19.5   \n2   3             2013.583          13.3   \n3   4             2013.500          13.3   \n4   5             2012.833           5.0   \n\n   X3 distance to the nearest MRT station  X4 number of convenience stores  \\\n0                                84.87882                               10   \n1                               306.59470                                9   \n2                               561.98450                                5   \n3                               561.98450                                5   \n4                               390.56840                                5   \n\n   X5 latitude  X6 longitude  Y house price of unit area  \n0     24.98298     121.54024                        37.9  \n1     24.98034     121.53951                        42.2  \n2     24.98746     121.54391                        47.3  \n3     24.98746     121.54391                        54.8  \n4     24.97937     121.54245                        43.1  ",
      "text/html": "<div>\n<style scoped>\n    .dataframe tbody tr th:only-of-type {\n        vertical-align: middle;\n    }\n\n    .dataframe tbody tr th {\n        vertical-align: top;\n    }\n\n    .dataframe thead th {\n        text-align: right;\n    }\n</style>\n<table border=\"1\" class=\"dataframe\">\n  <thead>\n    <tr style=\"text-align: right;\">\n      <th></th>\n      <th>No</th>\n      <th>X1 transaction date</th>\n      <th>X2 house age</th>\n      <th>X3 distance to the nearest MRT station</th>\n      <th>X4 number of convenience stores</th>\n      <th>X5 latitude</th>\n      <th>X6 longitude</th>\n      <th>Y house price of unit area</th>\n    </tr>\n  </thead>\n  <tbody>\n    <tr>\n      <th>0</th>\n      <td>1</td>\n      <td>2012.917</td>\n      <td>32.0</td>\n      <td>84.87882</td>\n      <td>10</td>\n      <td>24.98298</td>\n      <td>121.54024</td>\n      <td>37.9</td>\n    </tr>\n    <tr>\n      <th>1</th>\n      <td>2</td>\n      <td>2012.917</td>\n      <td>19.5</td>\n      <td>306.59470</td>\n      <td>9</td>\n      <td>24.98034</td>\n      <td>121.53951</td>\n      <td>42.2</td>\n    </tr>\n    <tr>\n      <th>2</th>\n      <td>3</td>\n      <td>2013.583</td>\n      <td>13.3</td>\n      <td>561.98450</td>\n      <td>5</td>\n      <td>24.98746</td>\n      <td>121.54391</td>\n      <td>47.3</td>\n    </tr>\n    <tr>\n      <th>3</th>\n      <td>4</td>\n      <td>2013.500</td>\n      <td>13.3</td>\n      <td>561.98450</td>\n      <td>5</td>\n      <td>24.98746</td>\n      <td>121.54391</td>\n      <td>54.8</td>\n    </tr>\n    <tr>\n      <th>4</th>\n      <td>5</td>\n      <td>2012.833</td>\n      <td>5.0</td>\n      <td>390.56840</td>\n      <td>5</td>\n      <td>24.97937</td>\n      <td>121.54245</td>\n      <td>43.1</td>\n    </tr>\n  </tbody>\n</table>\n</div>"
     },
     "execution_count": 103,
     "metadata": {},
     "output_type": "execute_result"
    }
   ],
   "source": [
    "df = pd.read_csv('Real estate.csv')\n",
    "df.head(5)"
   ],
   "metadata": {
    "collapsed": false,
    "pycharm": {
     "name": "#%%\n"
    }
   }
  },
  {
   "cell_type": "code",
   "execution_count": 104,
   "outputs": [
    {
     "data": {
      "text/plain": "0"
     },
     "execution_count": 104,
     "metadata": {},
     "output_type": "execute_result"
    }
   ],
   "source": [
    "df.isnull().sum().sum()\n"
   ],
   "metadata": {
    "collapsed": false,
    "pycharm": {
     "name": "#%%\n"
    }
   }
  },
  {
   "cell_type": "code",
   "execution_count": 105,
   "outputs": [],
   "source": [
    "#no NaN value"
   ],
   "metadata": {
    "collapsed": false,
    "pycharm": {
     "name": "#%%\n"
    }
   }
  },
  {
   "cell_type": "code",
   "execution_count": 106,
   "outputs": [
    {
     "data": {
      "text/plain": "(414, 8)"
     },
     "execution_count": 106,
     "metadata": {},
     "output_type": "execute_result"
    }
   ],
   "source": [
    "df.shape"
   ],
   "metadata": {
    "collapsed": false,
    "pycharm": {
     "name": "#%%\n"
    }
   }
  },
  {
   "cell_type": "code",
   "execution_count": 107,
   "outputs": [],
   "source": [
    "# going to ignore the lat and log data as well as the first column \"No\"\n",
    "\n",
    "df = df.drop(columns=['No', 'X5 latitude', 'X6 longitude'])"
   ],
   "metadata": {
    "collapsed": false,
    "pycharm": {
     "name": "#%%\n"
    }
   }
  },
  {
   "cell_type": "code",
   "execution_count": 108,
   "outputs": [
    {
     "data": {
      "text/plain": "     X1 transaction date  X2 house age  \\\n0               2012.917          32.0   \n1               2012.917          19.5   \n2               2013.583          13.3   \n3               2013.500          13.3   \n4               2012.833           5.0   \n..                   ...           ...   \n409             2013.000          13.7   \n410             2012.667           5.6   \n411             2013.250          18.8   \n412             2013.000           8.1   \n413             2013.500           6.5   \n\n     X3 distance to the nearest MRT station  X4 number of convenience stores  \\\n0                                  84.87882                               10   \n1                                 306.59470                                9   \n2                                 561.98450                                5   \n3                                 561.98450                                5   \n4                                 390.56840                                5   \n..                                      ...                              ...   \n409                              4082.01500                                0   \n410                                90.45606                                9   \n411                               390.96960                                7   \n412                               104.81010                                5   \n413                                90.45606                                9   \n\n     Y house price of unit area  \n0                          37.9  \n1                          42.2  \n2                          47.3  \n3                          54.8  \n4                          43.1  \n..                          ...  \n409                        15.4  \n410                        50.0  \n411                        40.6  \n412                        52.5  \n413                        63.9  \n\n[414 rows x 5 columns]",
      "text/html": "<div>\n<style scoped>\n    .dataframe tbody tr th:only-of-type {\n        vertical-align: middle;\n    }\n\n    .dataframe tbody tr th {\n        vertical-align: top;\n    }\n\n    .dataframe thead th {\n        text-align: right;\n    }\n</style>\n<table border=\"1\" class=\"dataframe\">\n  <thead>\n    <tr style=\"text-align: right;\">\n      <th></th>\n      <th>X1 transaction date</th>\n      <th>X2 house age</th>\n      <th>X3 distance to the nearest MRT station</th>\n      <th>X4 number of convenience stores</th>\n      <th>Y house price of unit area</th>\n    </tr>\n  </thead>\n  <tbody>\n    <tr>\n      <th>0</th>\n      <td>2012.917</td>\n      <td>32.0</td>\n      <td>84.87882</td>\n      <td>10</td>\n      <td>37.9</td>\n    </tr>\n    <tr>\n      <th>1</th>\n      <td>2012.917</td>\n      <td>19.5</td>\n      <td>306.59470</td>\n      <td>9</td>\n      <td>42.2</td>\n    </tr>\n    <tr>\n      <th>2</th>\n      <td>2013.583</td>\n      <td>13.3</td>\n      <td>561.98450</td>\n      <td>5</td>\n      <td>47.3</td>\n    </tr>\n    <tr>\n      <th>3</th>\n      <td>2013.500</td>\n      <td>13.3</td>\n      <td>561.98450</td>\n      <td>5</td>\n      <td>54.8</td>\n    </tr>\n    <tr>\n      <th>4</th>\n      <td>2012.833</td>\n      <td>5.0</td>\n      <td>390.56840</td>\n      <td>5</td>\n      <td>43.1</td>\n    </tr>\n    <tr>\n      <th>...</th>\n      <td>...</td>\n      <td>...</td>\n      <td>...</td>\n      <td>...</td>\n      <td>...</td>\n    </tr>\n    <tr>\n      <th>409</th>\n      <td>2013.000</td>\n      <td>13.7</td>\n      <td>4082.01500</td>\n      <td>0</td>\n      <td>15.4</td>\n    </tr>\n    <tr>\n      <th>410</th>\n      <td>2012.667</td>\n      <td>5.6</td>\n      <td>90.45606</td>\n      <td>9</td>\n      <td>50.0</td>\n    </tr>\n    <tr>\n      <th>411</th>\n      <td>2013.250</td>\n      <td>18.8</td>\n      <td>390.96960</td>\n      <td>7</td>\n      <td>40.6</td>\n    </tr>\n    <tr>\n      <th>412</th>\n      <td>2013.000</td>\n      <td>8.1</td>\n      <td>104.81010</td>\n      <td>5</td>\n      <td>52.5</td>\n    </tr>\n    <tr>\n      <th>413</th>\n      <td>2013.500</td>\n      <td>6.5</td>\n      <td>90.45606</td>\n      <td>9</td>\n      <td>63.9</td>\n    </tr>\n  </tbody>\n</table>\n<p>414 rows × 5 columns</p>\n</div>"
     },
     "execution_count": 108,
     "metadata": {},
     "output_type": "execute_result"
    }
   ],
   "source": [
    "df"
   ],
   "metadata": {
    "collapsed": false,
    "pycharm": {
     "name": "#%%\n"
    }
   }
  },
  {
   "cell_type": "code",
   "execution_count": 109,
   "outputs": [
    {
     "name": "stdout",
     "output_type": "stream",
     "text": [
      "Xs:\n",
      "   X1 transaction date  X2 house age  X3 distance to the nearest MRT station  \\\n",
      "0             2012.917          32.0                                84.87882   \n",
      "1             2012.917          19.5                               306.59470   \n",
      "2             2013.583          13.3                               561.98450   \n",
      "3             2013.500          13.3                               561.98450   \n",
      "\n",
      "   X4 number of convenience stores  \n",
      "0                               10  \n",
      "1                                9  \n",
      "2                                5  \n",
      "3                                5  \n",
      "Ys:\n",
      "0    37.9\n",
      "1    42.2\n",
      "2    47.3\n",
      "3    54.8\n",
      "Name: Y house price of unit area, dtype: float64\n"
     ]
    }
   ],
   "source": [
    "X = df.iloc[:, 0:4]\n",
    "Y = df.iloc[:, -1]\n",
    "print('Xs:')\n",
    "print(X.head(4))\n",
    "print('Ys:')\n",
    "print(Y.head(4))"
   ],
   "metadata": {
    "collapsed": false,
    "pycharm": {
     "name": "#%%\n"
    }
   }
  },
  {
   "cell_type": "code",
   "execution_count": 110,
   "outputs": [
    {
     "data": {
      "text/plain": "X1 transaction date                       float64\nX2 house age                              float64\nX3 distance to the nearest MRT station    float64\nX4 number of convenience stores             int64\nY house price of unit area                float64\ndtype: object"
     },
     "execution_count": 110,
     "metadata": {},
     "output_type": "execute_result"
    }
   ],
   "source": [
    "#checking if data types need to be converted\n",
    "df.dtypes"
   ],
   "metadata": {
    "collapsed": false,
    "pycharm": {
     "name": "#%%\n"
    }
   }
  },
  {
   "cell_type": "code",
   "execution_count": 111,
   "outputs": [
    {
     "data": {
      "text/plain": "pandas.core.series.Series"
     },
     "execution_count": 111,
     "metadata": {},
     "output_type": "execute_result"
    }
   ],
   "source": [
    "type(df['X1 transaction date'])"
   ],
   "metadata": {
    "collapsed": false,
    "pycharm": {
     "name": "#%%\n"
    }
   }
  },
  {
   "cell_type": "code",
   "execution_count": 112,
   "outputs": [],
   "source": [
    "from sklearn.model_selection import train_test_split\n",
    "\n",
    "x_train, x_test, y_train, y_test = train_test_split(X, Y, test_size=0.5, random_state=16)"
   ],
   "metadata": {
    "collapsed": false,
    "pycharm": {
     "name": "#%%\n"
    }
   }
  },
  {
   "cell_type": "code",
   "execution_count": 113,
   "outputs": [
    {
     "data": {
      "text/plain": "LinearRegression()"
     },
     "execution_count": 113,
     "metadata": {},
     "output_type": "execute_result"
    }
   ],
   "source": [
    "from sklearn.linear_model import LinearRegression\n",
    "\n",
    "model = LinearRegression()\n",
    "\n",
    "model.fit(x_train, y_train)"
   ],
   "metadata": {
    "collapsed": false,
    "pycharm": {
     "name": "#%%\n"
    }
   }
  },
  {
   "cell_type": "code",
   "execution_count": 114,
   "outputs": [
    {
     "data": {
      "text/plain": "array([ 7.59362584e+00, -2.38457028e-01, -4.67854760e-03,  1.59857655e+00])"
     },
     "execution_count": 114,
     "metadata": {},
     "output_type": "execute_result"
    }
   ],
   "source": [
    "# model is y = c + m1*x1 + m2*x2 + m3*x3 + m4*x4\n",
    "m = model.coef_\n",
    "c = model.intercept_\n",
    "m"
   ],
   "metadata": {
    "collapsed": false,
    "pycharm": {
     "name": "#%%\n"
    }
   }
  },
  {
   "cell_type": "code",
   "execution_count": 115,
   "outputs": [
    {
     "data": {
      "text/plain": "-15246.247518545511"
     },
     "execution_count": 115,
     "metadata": {},
     "output_type": "execute_result"
    }
   ],
   "source": [
    "c"
   ],
   "metadata": {
    "collapsed": false,
    "pycharm": {
     "name": "#%%\n"
    }
   }
  },
  {
   "cell_type": "code",
   "execution_count": 116,
   "outputs": [
    {
     "data": {
      "text/plain": "array([32.45030098, 14.99988786, 42.65036519, 14.96622174, 16.19648627,\n       30.40826295, 48.99374703, 35.82539729, 41.14612279, 25.02061338,\n       43.12782514, 47.40764107, 48.46566991, 32.970447  , 29.0676356 ,\n       49.82124434, 25.18712872, 37.36663117, 40.09149535, 46.91052913,\n       48.15204815, 40.08623279, 54.71167923, 38.03205792, 35.48638249,\n       49.98532999, 31.02748213, 11.18668517, 51.2873263 , 35.01737906,\n       43.46544757, 43.39367722, 31.74695417, 38.50502032, 47.0490552 ,\n       34.54570273, 44.7642398 , 37.49964275, 21.1178041 , 30.38870696,\n       51.01024912, 39.35305792, 56.53854858, 40.38074972, 36.28534395,\n       53.46625262, 46.09980048, 34.0799958 , 39.50997286, 30.77980657,\n       33.41828553, 49.22350348, 33.82820366, 41.00236288, 40.35747576,\n       29.86243239, 45.54591907, 32.21154837, 42.09616963, 49.18224297,\n       47.55650186, 43.15167084, 46.4393831 , 19.16983872, 13.58208422,\n       34.92472712, 41.88623955, 37.01507232, 42.8700428 , 47.3938832 ,\n       29.51957985, 41.4343289 , 30.91064876, 33.68434288, 40.66815322,\n       44.75888128, 35.19331396, 31.61133709, 48.56822411, 33.77665196,\n       35.73582683, 37.28956307, 26.25965151, 43.34083986, 43.16215991,\n       46.14770475, 42.12568691, 43.60072947, 42.26361756, 44.54023834,\n       31.43991212, 26.34634761, 43.88281435, 27.30890495, 51.64811369,\n       40.54282475, 33.72262313, 26.60103947, 32.80239231, 35.73680263,\n       28.09813326, 46.67381477, 21.58764029, 49.92418254, 48.77502835,\n       44.39596065, 28.47735417, 45.20260532, 29.60086702, 50.06737131,\n       34.46080259, 45.71024111, 29.01876395, 25.4639998 , 21.09273441,\n       51.03119505, 30.31573437, 41.27006846, 48.60393515, 41.68103802,\n       36.17118343, 52.83711847, 49.92983885, 46.29305676, 36.70497714,\n       45.73288165,  6.25587273, 31.24792685, 45.00451891, 35.96271127,\n       48.66499094, 30.40826295, 46.34051205, 46.4723794 , 49.41289292,\n       48.44372141, 40.81949672, 25.64655772, 37.58561842, 31.80599252,\n       45.61640476, 48.31620992, 36.55855755, 50.26869356, 35.82018812,\n       32.13927387, 30.9121603 , 34.27994412, 35.21376288, 40.26234666,\n       45.92738493, 36.81232737, 33.54446071, 33.05280723, 37.94487082,\n       45.76238462, 43.37939541, 20.46246347, 37.55965063, 15.34400476,\n       48.293676  , 15.56896114, 55.3256981 , 37.52971092, 16.17845382,\n       35.91297677, 35.74564856, 38.53184649, 37.58561842, 29.42027337,\n       50.26795187, 32.91306156, 34.55917775, 28.13729486, 31.7560279 ,\n       48.99374703, 53.87626094, 56.53854858, 30.59451558, 40.88764249,\n       22.24657096, 36.07346612, 40.8449101 , 45.65047629, 26.94829008,\n       45.57468276, 35.4865374 , 17.3565324 , 43.46544757, 50.95550892,\n       40.67068484, 37.31340878, 31.21758809, 50.82038425, 47.90125675,\n       49.80031212, 55.6891486 , 38.76974676, 17.3803781 , 27.21073019,\n       50.63091016, 33.5593004 , 50.04316387, 43.76568971, 48.37376385,\n       29.72982729, 36.89666205])"
     },
     "execution_count": 116,
     "metadata": {},
     "output_type": "execute_result"
    }
   ],
   "source": [
    "# predicted values for test values\n",
    "model.predict(x_test)"
   ],
   "metadata": {
    "collapsed": false,
    "pycharm": {
     "name": "#%%\n"
    }
   }
  },
  {
   "cell_type": "code",
   "execution_count": 117,
   "outputs": [
    {
     "data": {
      "text/plain": "0.5069330018527919"
     },
     "execution_count": 117,
     "metadata": {},
     "output_type": "execute_result"
    }
   ],
   "source": [
    "# R ^ 2\n",
    "model.score(x_test, y_test)"
   ],
   "metadata": {
    "collapsed": false,
    "pycharm": {
     "name": "#%%\n"
    }
   }
  },
  {
   "cell_type": "code",
   "execution_count": 118,
   "outputs": [],
   "source": [
    "# R ^ 2 is very low which means our independent variables don't explain much of the variance of the dependent variable"
   ],
   "metadata": {
    "collapsed": false,
    "pycharm": {
     "name": "#%%\n"
    }
   }
  }
 ],
 "metadata": {
  "kernelspec": {
   "display_name": "Python 3",
   "language": "python",
   "name": "python3"
  },
  "language_info": {
   "codemirror_mode": {
    "name": "ipython",
    "version": 2
   },
   "file_extension": ".py",
   "mimetype": "text/x-python",
   "name": "python",
   "nbconvert_exporter": "python",
   "pygments_lexer": "ipython2",
   "version": "2.7.6"
  }
 },
 "nbformat": 4,
 "nbformat_minor": 0
}